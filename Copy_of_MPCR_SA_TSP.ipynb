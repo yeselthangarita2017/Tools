{
  "nbformat": 4,
  "nbformat_minor": 0,
  "metadata": {
    "colab": {
      "name": "Copy of MPCR_SA_TSP.ipynb",
      "provenance": [],
      "collapsed_sections": [
        "3yCZ3gvWXGqN",
        "Fu6v-gfMcP0T",
        "RZsSxtTKfXas"
      ]
    },
    "kernelspec": {
      "name": "python3",
      "display_name": "Python 3"
    }
  },
  "cells": [
    {
      "cell_type": "code",
      "metadata": {
        "id": "nw7q_yaLEfGF"
      },
      "source": [
        "from scipy.special import factorial"
      ],
      "execution_count": null,
      "outputs": []
    },
    {
      "cell_type": "code",
      "metadata": {
        "id": "g7NGNaSzEfDo",
        "colab": {
          "base_uri": "https://localhost:8080/"
        },
        "outputId": "ad1635bf-8e93-4950-b96c-78c6caed91e8"
      },
      "source": [
        "factorial(100)"
      ],
      "execution_count": null,
      "outputs": [
        {
          "output_type": "execute_result",
          "data": {
            "text/plain": [
              "9.332621544394415e+157"
            ]
          },
          "metadata": {
            "tags": []
          },
          "execution_count": 2
        }
      ]
    },
    {
      "cell_type": "code",
      "metadata": {
        "id": "RacMG-7Avori"
      },
      "source": [
        "import numpy as np"
      ],
      "execution_count": null,
      "outputs": []
    },
    {
      "cell_type": "code",
      "metadata": {
        "id": "46wgZMDwvpzG"
      },
      "source": [
        "phone = np.array([2,3,4,3,7,1,7])"
      ],
      "execution_count": null,
      "outputs": []
    },
    {
      "cell_type": "markdown",
      "metadata": {
        "id": "E-9dZX3EWipV"
      },
      "source": [
        "This is a phone number we want to guess. "
      ]
    },
    {
      "cell_type": "code",
      "metadata": {
        "id": "37xG-q0Kvp1H",
        "colab": {
          "base_uri": "https://localhost:8080/"
        },
        "outputId": "c3ce2361-f166-4124-a270-4aa3ff77c34c"
      },
      "source": [
        "phone"
      ],
      "execution_count": null,
      "outputs": [
        {
          "output_type": "execute_result",
          "data": {
            "text/plain": [
              "array([2, 3, 4, 3, 7, 1, 7])"
            ]
          },
          "metadata": {
            "tags": []
          },
          "execution_count": 5
        }
      ]
    },
    {
      "cell_type": "code",
      "metadata": {
        "id": "8fvp_MHTvp65"
      },
      "source": [
        "next_number = np.random.randint(low = 0, high = 9, size = 7) "
      ],
      "execution_count": null,
      "outputs": []
    },
    {
      "cell_type": "code",
      "metadata": {
        "id": "yLhaDFqPvp4z",
        "colab": {
          "base_uri": "https://localhost:8080/"
        },
        "outputId": "c7ae1593-fda3-4705-c4b8-6e20d1720311"
      },
      "source": [
        "next_number"
      ],
      "execution_count": null,
      "outputs": [
        {
          "output_type": "execute_result",
          "data": {
            "text/plain": [
              "array([2, 5, 8, 3, 6, 8, 3])"
            ]
          },
          "metadata": {
            "tags": []
          },
          "execution_count": 7
        }
      ]
    },
    {
      "cell_type": "code",
      "metadata": {
        "id": "iE3kvZcIvp8y",
        "colab": {
          "base_uri": "https://localhost:8080/"
        },
        "outputId": "722c409c-4646-43e4-ef02-3745083921c9"
      },
      "source": [
        "phone == next_number"
      ],
      "execution_count": null,
      "outputs": [
        {
          "output_type": "execute_result",
          "data": {
            "text/plain": [
              "array([ True, False, False,  True, False, False, False])"
            ]
          },
          "metadata": {
            "tags": []
          },
          "execution_count": 8
        }
      ]
    },
    {
      "cell_type": "markdown",
      "metadata": {
        "id": "fL7lxoncWyBw"
      },
      "source": [
        "For it to be true everywhere, the phone has a to be true everywhere, but it is false is some sections. "
      ]
    },
    {
      "cell_type": "code",
      "metadata": {
        "id": "gxJXBxyfvp-s",
        "colab": {
          "base_uri": "https://localhost:8080/"
        },
        "outputId": "d14031c3-78de-4393-ee24-57332978c453"
      },
      "source": [
        "np.prod(phone == next_number)"
      ],
      "execution_count": null,
      "outputs": [
        {
          "output_type": "execute_result",
          "data": {
            "text/plain": [
              "0"
            ]
          },
          "metadata": {
            "tags": []
          },
          "execution_count": 9
        }
      ]
    },
    {
      "cell_type": "markdown",
      "metadata": {
        "id": "mWkcjcqrW-dg"
      },
      "source": [
        "This is a way of checking if we are correct in every single digit. We can think that 0 is false and 1 is true for phone == nex_number in each spot. The only way to get 1 is that is true in every spot"
      ]
    },
    {
      "cell_type": "code",
      "metadata": {
        "id": "AM8QtPNJxiQU"
      },
      "source": [
        "phone = np.array([2,3,4])"
      ],
      "execution_count": null,
      "outputs": []
    },
    {
      "cell_type": "code",
      "metadata": {
        "id": "KBx1Ykq6vqBV",
        "colab": {
          "base_uri": "https://localhost:8080/"
        },
        "outputId": "8ef78f96-bf9d-44dd-ba22-ad0e98427797"
      },
      "source": [
        "for i in range(1000000):\n",
        "\n",
        "    next_number = np.random.randint(low = 0, high = 9, size = phone.shape[0]) \n",
        "\n",
        "    if np.prod(phone == next_number) == 1:\n",
        "        print('Number Found!!')\n",
        "        print(i,'Call number')\n",
        "        break"
      ],
      "execution_count": null,
      "outputs": [
        {
          "output_type": "stream",
          "text": [
            "Number Found!!\n",
            "1061 Call number\n"
          ],
          "name": "stdout"
        }
      ]
    },
    {
      "cell_type": "markdown",
      "metadata": {
        "id": "QGP1DWH3XQoB"
      },
      "source": [
        "This is blind guessing. We dont want to do that but instead do assimilated annealing."
      ]
    },
    {
      "cell_type": "markdown",
      "metadata": {
        "id": "c1utYUDDWup5"
      },
      "source": [
        ""
      ]
    },
    {
      "cell_type": "code",
      "metadata": {
        "id": "AnJ4ZG1Hylyu"
      },
      "source": [
        ""
      ],
      "execution_count": null,
      "outputs": []
    },
    {
      "cell_type": "code",
      "metadata": {
        "id": "J3zrwVJuyl1K"
      },
      "source": [
        ""
      ],
      "execution_count": null,
      "outputs": []
    },
    {
      "cell_type": "code",
      "metadata": {
        "id": "GClmAn9Xyl3g"
      },
      "source": [
        ""
      ],
      "execution_count": null,
      "outputs": []
    },
    {
      "cell_type": "code",
      "metadata": {
        "id": "wlw7uRJYyl6l"
      },
      "source": [
        ""
      ],
      "execution_count": null,
      "outputs": []
    },
    {
      "cell_type": "code",
      "metadata": {
        "id": "yMNnE2oKvp3o"
      },
      "source": [
        "x = np.array([0,0])"
      ],
      "execution_count": null,
      "outputs": []
    },
    {
      "cell_type": "code",
      "metadata": {
        "id": "XmxVO0aQyobr"
      },
      "source": [
        "noise = np.random.randn(1,2)"
      ],
      "execution_count": null,
      "outputs": []
    },
    {
      "cell_type": "code",
      "metadata": {
        "id": "CP-I_vbuyf0k",
        "colab": {
          "base_uri": "https://localhost:8080/"
        },
        "outputId": "08bc705c-f341-4255-c791-ae7c4f4079df"
      },
      "source": [
        "noise"
      ],
      "execution_count": null,
      "outputs": [
        {
          "output_type": "execute_result",
          "data": {
            "text/plain": [
              "array([[0.59388343, 0.20669198]])"
            ]
          },
          "metadata": {
            "tags": []
          },
          "execution_count": 16
        }
      ]
    },
    {
      "cell_type": "code",
      "metadata": {
        "id": "mlQFUS5GymlA",
        "colab": {
          "base_uri": "https://localhost:8080/"
        },
        "outputId": "7d9093e1-6789-4a3d-9be9-50a88dfb61a0"
      },
      "source": [
        "x = np.array([0])\n",
        "\n",
        "for i in range(100000):\n",
        "\n",
        "    # print(x)\n",
        "\n",
        "    x = x + np.random.randn(1)\n",
        "    \n",
        "\n",
        "    if np.abs(x) < 0.005: #this is 1D search\n",
        "\n",
        "        print(x)\n",
        "        print(i)\n",
        "        print('home!')\n",
        "        break\n",
        "    "
      ],
      "execution_count": null,
      "outputs": [
        {
          "output_type": "stream",
          "text": [
            "[0.0029991]\n",
            "1786\n",
            "home!\n"
          ],
          "name": "stdout"
        }
      ]
    },
    {
      "cell_type": "code",
      "metadata": {
        "id": "RRn8_yk3ymrg"
      },
      "source": [
        ""
      ],
      "execution_count": null,
      "outputs": []
    },
    {
      "cell_type": "code",
      "metadata": {
        "id": "3XEpuOdJyf4k"
      },
      "source": [
        "x = np.array([0,0])\n",
        "\n",
        "for i in range(1000000):\n",
        "\n",
        "    # print(x)\n",
        "\n",
        "    x = x + np.random.randn(1,2)\n",
        "    \n",
        "\n",
        "    d = np.abs(x - np.array([0,0]))[0]\n",
        "\n",
        "    if np.sqrt(d[0]**2 + d[1]**2) < 0.05:    \n",
        "\n",
        "        print(x)\n",
        "        print(i)\n",
        "        print('home!')\n",
        "        break"
      ],
      "execution_count": null,
      "outputs": []
    },
    {
      "cell_type": "code",
      "metadata": {
        "id": "eqRnz0Jr1roW"
      },
      "source": [
        ""
      ],
      "execution_count": null,
      "outputs": []
    },
    {
      "cell_type": "code",
      "metadata": {
        "id": "Egw1Km-c1rsX"
      },
      "source": [
        ""
      ],
      "execution_count": null,
      "outputs": []
    },
    {
      "cell_type": "code",
      "metadata": {
        "id": "LIjR1pZy1rrM"
      },
      "source": [
        ""
      ],
      "execution_count": null,
      "outputs": []
    },
    {
      "cell_type": "code",
      "metadata": {
        "id": "SaZz3F0V1azc",
        "colab": {
          "base_uri": "https://localhost:8080/",
          "height": 34
        },
        "outputId": "9af32e4c-497f-4b67-b6bf-5d8d2846e406"
      },
      "source": [
        "np.abs(x - np.array([0,0]))[0]"
      ],
      "execution_count": null,
      "outputs": [
        {
          "output_type": "execute_result",
          "data": {
            "text/plain": [
              "array([441.30961031, 593.51593775])"
            ]
          },
          "metadata": {
            "tags": []
          },
          "execution_count": 17
        }
      ]
    },
    {
      "cell_type": "code",
      "metadata": {
        "id": "1s90SlOm1a5Y"
      },
      "source": [
        ""
      ],
      "execution_count": null,
      "outputs": []
    },
    {
      "cell_type": "code",
      "metadata": {
        "id": "7ibZ5BSu1a4C"
      },
      "source": [
        ""
      ],
      "execution_count": null,
      "outputs": []
    },
    {
      "cell_type": "code",
      "metadata": {
        "id": "uaa4VMc01a2U"
      },
      "source": [
        ""
      ],
      "execution_count": null,
      "outputs": []
    },
    {
      "cell_type": "code",
      "metadata": {
        "id": "hF0CLBng0t3J"
      },
      "source": [
        "d = np.abs(x - np.array([0,0]))[0]"
      ],
      "execution_count": null,
      "outputs": []
    },
    {
      "cell_type": "code",
      "metadata": {
        "id": "2vyuNxN50_ws",
        "colab": {
          "base_uri": "https://localhost:8080/"
        },
        "outputId": "1117699d-26eb-479d-f39a-fa6796fbd828"
      },
      "source": [
        "np.abs(x - np.array([0,0]))"
      ],
      "execution_count": null,
      "outputs": [
        {
          "output_type": "execute_result",
          "data": {
            "text/plain": [
              "array([[2126.49306136,  584.65863868]])"
            ]
          },
          "metadata": {
            "tags": []
          },
          "execution_count": 21
        }
      ]
    },
    {
      "cell_type": "code",
      "metadata": {
        "id": "aVn6WZI10464",
        "colab": {
          "base_uri": "https://localhost:8080/"
        },
        "outputId": "c6926e5a-3e8c-4aa8-d0cd-f8fd4f22b919"
      },
      "source": [
        "d[0]"
      ],
      "execution_count": null,
      "outputs": [
        {
          "output_type": "execute_result",
          "data": {
            "text/plain": [
              "2126.4930613609795"
            ]
          },
          "metadata": {
            "tags": []
          },
          "execution_count": 22
        }
      ]
    },
    {
      "cell_type": "code",
      "metadata": {
        "id": "Nbgf0vUV09fR",
        "colab": {
          "base_uri": "https://localhost:8080/"
        },
        "outputId": "3c292743-ecbf-4074-cffd-0657514c653c"
      },
      "source": [
        "d[1]"
      ],
      "execution_count": null,
      "outputs": [
        {
          "output_type": "execute_result",
          "data": {
            "text/plain": [
              "584.6586386802986"
            ]
          },
          "metadata": {
            "tags": []
          },
          "execution_count": 23
        }
      ]
    },
    {
      "cell_type": "code",
      "metadata": {
        "id": "PW-zBorJyf-T",
        "colab": {
          "base_uri": "https://localhost:8080/"
        },
        "outputId": "3e87dd36-d1a3-4a5a-d1f6-120944a654b9"
      },
      "source": [
        "np.sqrt(d[0]**2 + d[1]**2)"
      ],
      "execution_count": null,
      "outputs": [
        {
          "output_type": "execute_result",
          "data": {
            "text/plain": [
              "2205.4021093215383"
            ]
          },
          "metadata": {
            "tags": []
          },
          "execution_count": 24
        }
      ]
    },
    {
      "cell_type": "code",
      "metadata": {
        "id": "b6DWhDxyyf8W"
      },
      "source": [
        ""
      ],
      "execution_count": null,
      "outputs": []
    },
    {
      "cell_type": "code",
      "metadata": {
        "id": "GvBRbV3zyf6v"
      },
      "source": [
        ""
      ],
      "execution_count": null,
      "outputs": []
    },
    {
      "cell_type": "code",
      "metadata": {
        "id": "YiqNDPElyf3K"
      },
      "source": [
        ""
      ],
      "execution_count": null,
      "outputs": []
    },
    {
      "cell_type": "code",
      "metadata": {
        "id": "OSIp7VHrvouN"
      },
      "source": [
        ""
      ],
      "execution_count": null,
      "outputs": []
    },
    {
      "cell_type": "markdown",
      "metadata": {
        "id": "3yCZ3gvWXGqN"
      },
      "source": [
        "#Import Libraries"
      ]
    },
    {
      "cell_type": "code",
      "metadata": {
        "id": "Tw-gtBGhnraa"
      },
      "source": [
        "from random import random\n",
        "from random import uniform\n",
        "from random import randrange\n",
        "from math import exp\n",
        "from time import time\n",
        "import numpy as np\n",
        "import matplotlib.pyplot as plt\n",
        "from mpl_toolkits.mplot3d import Axes3D\n",
        "from matplotlib import cm\n",
        "from matplotlib.colors import LightSource"
      ],
      "execution_count": null,
      "outputs": []
    },
    {
      "cell_type": "code",
      "metadata": {
        "id": "XxSIlNQ0nraq"
      },
      "source": [
        "def f(x):\n",
        "    return x[0]**2 + x[1]**2 #Simple function to optimize: De Jong Sphere Sum of Xi**2 for all i "
      ],
      "execution_count": null,
      "outputs": []
    },
    {
      "cell_type": "markdown",
      "metadata": {
        "id": "CA1XU1JUXqQd"
      },
      "source": [
        "Cost function"
      ]
    },
    {
      "cell_type": "code",
      "metadata": {
        "id": "5sCr2Uhx7VZk",
        "colab": {
          "base_uri": "https://localhost:8080/"
        },
        "outputId": "3b59ea70-cc55-4aba-b1af-781280894374"
      },
      "source": [
        "f([0,0])"
      ],
      "execution_count": null,
      "outputs": [
        {
          "output_type": "execute_result",
          "data": {
            "text/plain": [
              "0"
            ]
          },
          "metadata": {
            "tags": []
          },
          "execution_count": 27
        }
      ]
    },
    {
      "cell_type": "code",
      "metadata": {
        "id": "aWhXFc2K3Jka",
        "colab": {
          "base_uri": "https://localhost:8080/"
        },
        "outputId": "99cd7732-baba-4d3c-962e-0673d7c4ca31"
      },
      "source": [
        "f([0.21,0.5])"
      ],
      "execution_count": null,
      "outputs": [
        {
          "output_type": "execute_result",
          "data": {
            "text/plain": [
              "0.2941"
            ]
          },
          "metadata": {
            "tags": []
          },
          "execution_count": 21
        }
      ]
    },
    {
      "cell_type": "code",
      "metadata": {
        "id": "f6Ojz0JF3FgB",
        "colab": {
          "base_uri": "https://localhost:8080/"
        },
        "outputId": "da1f52be-7b94-4db9-f4c3-ac410457e793"
      },
      "source": [
        "f([3.141,2.71])"
      ],
      "execution_count": null,
      "outputs": [
        {
          "output_type": "execute_result",
          "data": {
            "text/plain": [
              "17.209981"
            ]
          },
          "metadata": {
            "tags": []
          },
          "execution_count": 22
        }
      ]
    },
    {
      "cell_type": "code",
      "metadata": {
        "id": "cbJfrrio7wn6"
      },
      "source": [
        "cost = np.zeros((20,20))"
      ],
      "execution_count": null,
      "outputs": []
    },
    {
      "cell_type": "code",
      "metadata": {
        "id": "Cyzybd1cSFkM",
        "colab": {
          "base_uri": "https://localhost:8080/"
        },
        "outputId": "d01a6802-1968-4aef-a2be-aa1b7c8e8ee6"
      },
      "source": [
        "f([0,0])"
      ],
      "execution_count": null,
      "outputs": [
        {
          "output_type": "execute_result",
          "data": {
            "text/plain": [
              "0"
            ]
          },
          "metadata": {
            "tags": []
          },
          "execution_count": 24
        }
      ]
    },
    {
      "cell_type": "code",
      "metadata": {
        "id": "C5pPApHsS8nz"
      },
      "source": [
        "x = np.linspace(-10, 10, 100)\n",
        "y = np.linspace(-10, 10, 100)"
      ],
      "execution_count": null,
      "outputs": []
    },
    {
      "cell_type": "code",
      "metadata": {
        "id": "I-imPIkT5nRr",
        "colab": {
          "base_uri": "https://localhost:8080/"
        },
        "outputId": "9b495002-7972-453b-d75b-4dcfef183873"
      },
      "source": [
        "x.shape,y.shape"
      ],
      "execution_count": null,
      "outputs": [
        {
          "output_type": "execute_result",
          "data": {
            "text/plain": [
              "((100,), (100,))"
            ]
          },
          "metadata": {
            "tags": []
          },
          "execution_count": 26
        }
      ]
    },
    {
      "cell_type": "code",
      "metadata": {
        "id": "xQCJvuEX6H8z"
      },
      "source": [
        "cost = np.zeros((100,100))"
      ],
      "execution_count": null,
      "outputs": []
    },
    {
      "cell_type": "code",
      "metadata": {
        "id": "dV4Pn0rC5vRJ"
      },
      "source": [
        "for i in range(100): #x\n",
        "\n",
        "    for j in range(100): #y\n",
        "\n",
        "        cost[i,j] = f([ x[i],y[j] ])\n",
        "\n",
        "    "
      ],
      "execution_count": null,
      "outputs": []
    },
    {
      "cell_type": "code",
      "metadata": {
        "id": "XtSlRfc85vVd",
        "colab": {
          "base_uri": "https://localhost:8080/"
        },
        "outputId": "98bb8db1-8f96-4e6d-eca4-87744ede2342"
      },
      "source": [
        "cost.shape"
      ],
      "execution_count": null,
      "outputs": [
        {
          "output_type": "execute_result",
          "data": {
            "text/plain": [
              "(100, 100)"
            ]
          },
          "metadata": {
            "tags": []
          },
          "execution_count": 29
        }
      ]
    },
    {
      "cell_type": "code",
      "metadata": {
        "id": "r23eOc9w5vt4",
        "colab": {
          "base_uri": "https://localhost:8080/",
          "height": 285
        },
        "outputId": "27c3228e-8f9a-405b-f8de-443b2ada7f87"
      },
      "source": [
        "plt.imshow(cost)"
      ],
      "execution_count": null,
      "outputs": [
        {
          "output_type": "execute_result",
          "data": {
            "text/plain": [
              "<matplotlib.image.AxesImage at 0x7f5ab11f9f10>"
            ]
          },
          "metadata": {
            "tags": []
          },
          "execution_count": 30
        },
        {
          "output_type": "display_data",
          "data": {
            "image/png": "[encoded data removed]",
            "text/plain": [
              "<Figure size 432x288 with 1 Axes>"
            ]
          },
          "metadata": {
            "tags": [],
            "needs_background": "light"
          }
        }
      ]
    },
    {
      "cell_type": "code",
      "metadata": {
        "id": "JoH46OpZ5vwb",
        "colab": {
          "base_uri": "https://localhost:8080/",
          "height": 285
        },
        "outputId": "4dfddab9-e7aa-4e0c-e0c3-1d1c996669bc"
      },
      "source": [
        "pos = plt.imshow(cost, cmap='jet', interpolation='none')\n",
        "plt.colorbar(pos)"
      ],
      "execution_count": null,
      "outputs": [
        {
          "output_type": "execute_result",
          "data": {
            "text/plain": [
              "<matplotlib.colorbar.Colorbar at 0x7f5ab0c377d0>"
            ]
          },
          "metadata": {
            "tags": []
          },
          "execution_count": 31
        },
        {
          "output_type": "display_data",
          "data": {
            "image/png": "[encoded data removed]",
            "text/plain": [
              "<Figure size 432x288 with 2 Axes>"
            ]
          },
          "metadata": {
            "tags": [],
            "needs_background": "light"
          }
        }
      ]
    },
    {
      "cell_type": "code",
      "metadata": {
        "id": "deZ4j1yg5vTw"
      },
      "source": [
        ""
      ],
      "execution_count": null,
      "outputs": []
    },
    {
      "cell_type": "code",
      "metadata": {
        "id": "QyW0k1DW5o3n"
      },
      "source": [
        ""
      ],
      "execution_count": null,
      "outputs": []
    },
    {
      "cell_type": "code",
      "metadata": {
        "id": "NKNmlGlG5o6Y"
      },
      "source": [
        ""
      ],
      "execution_count": null,
      "outputs": []
    },
    {
      "cell_type": "code",
      "metadata": {
        "id": "K0ndEZeC5nZS"
      },
      "source": [
        ""
      ],
      "execution_count": null,
      "outputs": []
    },
    {
      "cell_type": "code",
      "metadata": {
        "id": "T5o3BWsP5nbq"
      },
      "source": [
        ""
      ],
      "execution_count": null,
      "outputs": []
    },
    {
      "cell_type": "code",
      "metadata": {
        "id": "LI4Z_UsZ5nXv"
      },
      "source": [
        ""
      ],
      "execution_count": null,
      "outputs": []
    },
    {
      "cell_type": "code",
      "metadata": {
        "id": "p6Cdzu7L5nV0"
      },
      "source": [
        ""
      ],
      "execution_count": null,
      "outputs": []
    },
    {
      "cell_type": "code",
      "metadata": {
        "id": "wq7OaBJL5nUR"
      },
      "source": [
        ""
      ],
      "execution_count": null,
      "outputs": []
    },
    {
      "cell_type": "code",
      "metadata": {
        "id": "J_UqgsXf5nQB"
      },
      "source": [
        ""
      ],
      "execution_count": null,
      "outputs": []
    },
    {
      "cell_type": "code",
      "metadata": {
        "id": "KFbEWimITZtr",
        "colab": {
          "base_uri": "https://localhost:8080/"
        },
        "outputId": "c2a332aa-b377-42f0-f5fe-8dc6f1ca2342"
      },
      "source": [
        "x.shape"
      ],
      "execution_count": null,
      "outputs": [
        {
          "output_type": "execute_result",
          "data": {
            "text/plain": [
              "(100,)"
            ]
          },
          "metadata": {
            "tags": []
          },
          "execution_count": 39
        }
      ]
    },
    {
      "cell_type": "code",
      "metadata": {
        "id": "yIcu_8syS8oL"
      },
      "source": [
        "x, y = np.meshgrid(x, y)"
      ],
      "execution_count": null,
      "outputs": []
    },
    {
      "cell_type": "code",
      "metadata": {
        "id": "p426YQhoTZMJ",
        "colab": {
          "base_uri": "https://localhost:8080/"
        },
        "outputId": "14f38ecd-a27f-45f5-b126-93284907cc5b"
      },
      "source": [
        "x.shape,y.shape"
      ],
      "execution_count": null,
      "outputs": [
        {
          "output_type": "execute_result",
          "data": {
            "text/plain": [
              "((100, 100), (100, 100))"
            ]
          },
          "metadata": {
            "tags": []
          },
          "execution_count": 41
        }
      ]
    },
    {
      "cell_type": "code",
      "metadata": {
        "id": "MZXaIGw5S8oU"
      },
      "source": [
        "z = f([x,y]) #cost function"
      ],
      "execution_count": null,
      "outputs": []
    },
    {
      "cell_type": "code",
      "metadata": {
        "id": "FCZ8dsuW5GI6",
        "colab": {
          "base_uri": "https://localhost:8080/"
        },
        "outputId": "8a26a6d9-0045-4e21-8b77-71c536d0da9d"
      },
      "source": [
        "x"
      ],
      "execution_count": null,
      "outputs": [
        {
          "output_type": "execute_result",
          "data": {
            "text/plain": [
              "array([[-10.       ,  -9.7979798,  -9.5959596, ...,   9.5959596,\n",
              "          9.7979798,  10.       ],\n",
              "       [-10.       ,  -9.7979798,  -9.5959596, ...,   9.5959596,\n",
              "          9.7979798,  10.       ],\n",
              "       [-10.       ,  -9.7979798,  -9.5959596, ...,   9.5959596,\n",
              "          9.7979798,  10.       ],\n",
              "       ...,\n",
              "       [-10.       ,  -9.7979798,  -9.5959596, ...,   9.5959596,\n",
              "          9.7979798,  10.       ],\n",
              "       [-10.       ,  -9.7979798,  -9.5959596, ...,   9.5959596,\n",
              "          9.7979798,  10.       ],\n",
              "       [-10.       ,  -9.7979798,  -9.5959596, ...,   9.5959596,\n",
              "          9.7979798,  10.       ]])"
            ]
          },
          "metadata": {
            "tags": []
          },
          "execution_count": 43
        }
      ]
    },
    {
      "cell_type": "code",
      "metadata": {
        "id": "QexFGKD9SGxp",
        "colab": {
          "base_uri": "https://localhost:8080/",
          "height": 286
        },
        "outputId": "4e5894bd-e122-498b-8c59-9371f9e4939f"
      },
      "source": [
        "plt.imshow(z)\n",
        "plt.colorbar()"
      ],
      "execution_count": null,
      "outputs": [
        {
          "output_type": "execute_result",
          "data": {
            "text/plain": [
              "<matplotlib.colorbar.Colorbar at 0x7fabdb1e5a58>"
            ]
          },
          "metadata": {
            "tags": []
          },
          "execution_count": 44
        },
        {
          "output_type": "display_data",
          "data": {
            "image/png": "[encoded data removed]",
            "text/plain": [
              "<Figure size 432x288 with 2 Axes>"
            ]
          },
          "metadata": {
            "tags": [],
            "needs_background": "light"
          }
        }
      ]
    },
    {
      "cell_type": "code",
      "metadata": {
        "id": "lCCFFMttSGrf"
      },
      "source": [
        ""
      ],
      "execution_count": null,
      "outputs": []
    },
    {
      "cell_type": "code",
      "metadata": {
        "id": "53P15M1hSGpt"
      },
      "source": [
        ""
      ],
      "execution_count": null,
      "outputs": []
    },
    {
      "cell_type": "code",
      "metadata": {
        "id": "lVQeqFMUSGmr"
      },
      "source": [
        ""
      ],
      "execution_count": null,
      "outputs": []
    },
    {
      "cell_type": "code",
      "metadata": {
        "id": "J9BKPZs8SFfW"
      },
      "source": [
        ""
      ],
      "execution_count": null,
      "outputs": []
    },
    {
      "cell_type": "markdown",
      "metadata": {
        "id": "Fu6v-gfMcP0T"
      },
      "source": [
        "#Surface Plot"
      ]
    },
    {
      "cell_type": "code",
      "metadata": {
        "id": "Z9DmJdaU8sX-"
      },
      "source": [
        "def surf(x,y,z):\n",
        "    \n",
        "    fig, ax = plt.subplots(subplot_kw=dict(projection='3d'))\n",
        "    fig.set_size_inches(10, 10)\n",
        "    ls = LightSource(270, 45)\n",
        "    rgb = ls.shade(z, cmap=cm.gist_earth, vert_exag=0.1, blend_mode='soft')\n",
        "    surf = ax.plot_surface(x, y, z, rstride=1, cstride=1, facecolors=rgb,\n",
        "                   linewidth=0, antialiased=False, shade=False)\n",
        "    plt.show() "
      ],
      "execution_count": null,
      "outputs": []
    },
    {
      "cell_type": "code",
      "metadata": {
        "id": "EzKSQ3928sYN"
      },
      "source": [
        "x = np.linspace(-20, 20, 100)\n",
        "y = np.linspace(-20, 20, 100)"
      ],
      "execution_count": null,
      "outputs": []
    },
    {
      "cell_type": "code",
      "metadata": {
        "id": "cPySLlMq8sYR"
      },
      "source": [
        "x, y = np.meshgrid(x, y)"
      ],
      "execution_count": null,
      "outputs": []
    },
    {
      "cell_type": "code",
      "metadata": {
        "id": "4jbzfBjM8sYU"
      },
      "source": [
        "z = f([x,y])"
      ],
      "execution_count": null,
      "outputs": []
    },
    {
      "cell_type": "code",
      "metadata": {
        "id": "GpD0AlUn7FyJ",
        "colab": {
          "base_uri": "https://localhost:8080/"
        },
        "outputId": "4971d1e2-9356-4754-df45-4b1155af4c55"
      },
      "source": [
        "z.shape"
      ],
      "execution_count": null,
      "outputs": [
        {
          "output_type": "execute_result",
          "data": {
            "text/plain": [
              "(100, 100)"
            ]
          },
          "metadata": {
            "tags": []
          },
          "execution_count": 49
        }
      ]
    },
    {
      "cell_type": "code",
      "metadata": {
        "id": "xudftzCA8sYW",
        "colab": {
          "base_uri": "https://localhost:8080/",
          "height": 575
        },
        "outputId": "c66bd86a-29a8-48d8-c836-5bf0cc99216c"
      },
      "source": [
        "surf(x,y,z)"
      ],
      "execution_count": null,
      "outputs": [
        {
          "output_type": "display_data",
          "data": {
            "image/png": "[encoded data removed]",
            "text/plain": [
              "<Figure size 720x720 with 1 Axes>"
            ]
          },
          "metadata": {
            "tags": [],
            "needs_background": "light"
          }
        }
      ]
    },
    {
      "cell_type": "code",
      "metadata": {
        "id": "2cDf1FdXUWwx",
        "colab": {
          "base_uri": "https://localhost:8080/"
        },
        "outputId": "11a0319e-9368-4f33-dfd0-3b0cc0022622"
      },
      "source": [
        "z.shape"
      ],
      "execution_count": null,
      "outputs": [
        {
          "output_type": "execute_result",
          "data": {
            "text/plain": [
              "(100, 100)"
            ]
          },
          "metadata": {
            "tags": []
          },
          "execution_count": 51
        }
      ]
    },
    {
      "cell_type": "code",
      "metadata": {
        "id": "ec37kKIM7Vqh",
        "colab": {
          "base_uri": "https://localhost:8080/"
        },
        "outputId": "dab6fe6e-d4b1-4f11-ba3f-7e02e73ce80f"
      },
      "source": [
        "np.argmin(z)"
      ],
      "execution_count": null,
      "outputs": [
        {
          "output_type": "execute_result",
          "data": {
            "text/plain": [
              "4949"
            ]
          },
          "metadata": {
            "tags": []
          },
          "execution_count": 52
        }
      ]
    },
    {
      "cell_type": "code",
      "metadata": {
        "id": "Xgs8_aVU9E1I"
      },
      "source": [
        "ind = np.unravel_index(np.argmin(z, axis=None), z.shape)"
      ],
      "execution_count": null,
      "outputs": []
    },
    {
      "cell_type": "code",
      "metadata": {
        "id": "tzsQa_l89E6k",
        "colab": {
          "base_uri": "https://localhost:8080/"
        },
        "outputId": "6e0a3bed-d92d-4121-9fd2-1daed418a112"
      },
      "source": [
        "ind"
      ],
      "execution_count": null,
      "outputs": [
        {
          "output_type": "execute_result",
          "data": {
            "text/plain": [
              "(49, 49)"
            ]
          },
          "metadata": {
            "tags": []
          },
          "execution_count": 54
        }
      ]
    },
    {
      "cell_type": "code",
      "metadata": {
        "id": "ApIZ-a1i7t8e",
        "colab": {
          "base_uri": "https://localhost:8080/"
        },
        "outputId": "f7d1323b-9367-49b1-90f9-3eb642db247c"
      },
      "source": [
        "x[49][49]"
      ],
      "execution_count": null,
      "outputs": [
        {
          "output_type": "execute_result",
          "data": {
            "text/plain": [
              "-0.20202020202020066"
            ]
          },
          "metadata": {
            "tags": []
          },
          "execution_count": 55
        }
      ]
    },
    {
      "cell_type": "code",
      "metadata": {
        "id": "R2R-DAlD7vqz",
        "colab": {
          "base_uri": "https://localhost:8080/"
        },
        "outputId": "4dfb5f2d-b2e2-4465-9b9e-17d348afc9de"
      },
      "source": [
        "x[50]"
      ],
      "execution_count": null,
      "outputs": [
        {
          "output_type": "execute_result",
          "data": {
            "text/plain": [
              "array([-20.        , -19.5959596 , -19.19191919, -18.78787879,\n",
              "       -18.38383838, -17.97979798, -17.57575758, -17.17171717,\n",
              "       -16.76767677, -16.36363636, -15.95959596, -15.55555556,\n",
              "       -15.15151515, -14.74747475, -14.34343434, -13.93939394,\n",
              "       -13.53535354, -13.13131313, -12.72727273, -12.32323232,\n",
              "       -11.91919192, -11.51515152, -11.11111111, -10.70707071,\n",
              "       -10.3030303 ,  -9.8989899 ,  -9.49494949,  -9.09090909,\n",
              "        -8.68686869,  -8.28282828,  -7.87878788,  -7.47474747,\n",
              "        -7.07070707,  -6.66666667,  -6.26262626,  -5.85858586,\n",
              "        -5.45454545,  -5.05050505,  -4.64646465,  -4.24242424,\n",
              "        -3.83838384,  -3.43434343,  -3.03030303,  -2.62626263,\n",
              "        -2.22222222,  -1.81818182,  -1.41414141,  -1.01010101,\n",
              "        -0.60606061,  -0.2020202 ,   0.2020202 ,   0.60606061,\n",
              "         1.01010101,   1.41414141,   1.81818182,   2.22222222,\n",
              "         2.62626263,   3.03030303,   3.43434343,   3.83838384,\n",
              "         4.24242424,   4.64646465,   5.05050505,   5.45454545,\n",
              "         5.85858586,   6.26262626,   6.66666667,   7.07070707,\n",
              "         7.47474747,   7.87878788,   8.28282828,   8.68686869,\n",
              "         9.09090909,   9.49494949,   9.8989899 ,  10.3030303 ,\n",
              "        10.70707071,  11.11111111,  11.51515152,  11.91919192,\n",
              "        12.32323232,  12.72727273,  13.13131313,  13.53535354,\n",
              "        13.93939394,  14.34343434,  14.74747475,  15.15151515,\n",
              "        15.55555556,  15.95959596,  16.36363636,  16.76767677,\n",
              "        17.17171717,  17.57575758,  17.97979798,  18.38383838,\n",
              "        18.78787879,  19.19191919,  19.5959596 ,  20.        ])"
            ]
          },
          "metadata": {
            "tags": []
          },
          "execution_count": 56
        }
      ]
    },
    {
      "cell_type": "code",
      "metadata": {
        "id": "YUWS2XyM9E-m",
        "colab": {
          "base_uri": "https://localhost:8080/"
        },
        "outputId": "dcfc92a6-5013-4cfc-dc27-cb7b64191ebe"
      },
      "source": [
        "x[60][60]"
      ],
      "execution_count": null,
      "outputs": [
        {
          "output_type": "execute_result",
          "data": {
            "text/plain": [
              "4.242424242424242"
            ]
          },
          "metadata": {
            "tags": []
          },
          "execution_count": 57
        }
      ]
    },
    {
      "cell_type": "code",
      "metadata": {
        "id": "hVd72xmW9E9L",
        "colab": {
          "base_uri": "https://localhost:8080/"
        },
        "outputId": "b674aada-b929-4095-d644-a89fcd95abd7"
      },
      "source": [
        "x[70][70]"
      ],
      "execution_count": null,
      "outputs": [
        {
          "output_type": "execute_result",
          "data": {
            "text/plain": [
              "8.282828282828284"
            ]
          },
          "metadata": {
            "tags": []
          },
          "execution_count": 58
        }
      ]
    },
    {
      "cell_type": "markdown",
      "metadata": {
        "id": "RZsSxtTKfXas"
      },
      "source": [
        "#Simulated Annealing"
      ]
    },
    {
      "cell_type": "code",
      "metadata": {
        "id": "QfGpUm6PgWHe"
      },
      "source": [
        "def noise():\n",
        "    return np.random.normal(0,1,(2,))"
      ],
      "execution_count": null,
      "outputs": []
    },
    {
      "cell_type": "code",
      "metadata": {
        "id": "Ugkhsuf79r9D"
      },
      "source": [
        "delta = 1"
      ],
      "execution_count": null,
      "outputs": []
    },
    {
      "cell_type": "code",
      "metadata": {
        "id": "fe2m2F3U9r60"
      },
      "source": [
        "temp = np.linspace(0,100,100)"
      ],
      "execution_count": null,
      "outputs": []
    },
    {
      "cell_type": "code",
      "metadata": {
        "id": "QkPc89oQ9r4t",
        "colab": {
          "base_uri": "https://localhost:8080/"
        },
        "outputId": "7f6cb507-7f6e-4d31-f215-f73582dc8bb4"
      },
      "source": [
        "np.exp(-delta * temp)"
      ],
      "execution_count": null,
      "outputs": [
        {
          "output_type": "execute_result",
          "data": {
            "text/plain": [
              "array([1.00000000e+00, 3.64182192e-01, 1.32628669e-01, 4.83009992e-02,\n",
              "       1.75903638e-02, 6.40609723e-03, 2.33298653e-03, 8.49632147e-04,\n",
              "       3.09420897e-04, 1.12685581e-04, 4.10380817e-05, 1.49453385e-05,\n",
              "       5.44282614e-06, 1.98218035e-06, 7.21874785e-07, 2.62893941e-07,\n",
              "       9.57412917e-08, 3.48672734e-08, 1.26980401e-08, 4.62440006e-09,\n",
              "       1.68412415e-09, 6.13328023e-10, 2.23363144e-10, 8.13448792e-11,\n",
              "       2.96243564e-11, 1.07886630e-11, 3.92903895e-12, 1.43088601e-12,\n",
              "       5.21103205e-13, 1.89776507e-13, 6.91132243e-14, 2.51698055e-14,\n",
              "       9.16639493e-15, 3.33823780e-15, 1.21572676e-15, 4.42746035e-16,\n",
              "       1.61240221e-16, 5.87208171e-17, 2.13850759e-17, 7.78806380e-18,\n",
              "       2.83627414e-18, 1.03292053e-18, 3.76171264e-19, 1.36994875e-19,\n",
              "       4.98910939e-20, 1.81694479e-20, 6.61698937e-21, 2.40978969e-21,\n",
              "       8.77602491e-22, 3.19607198e-22, 1.16395250e-22, 4.23890772e-23,\n",
              "       1.54373470e-23, 5.62200688e-24, 2.04743479e-24, 7.45639288e-25,\n",
              "       2.71548550e-25, 9.88931461e-26, 3.60151227e-26, 1.31160663e-26,\n",
              "       4.77663778e-27, 1.73956641e-27, 6.33519109e-28, 2.30716378e-28,\n",
              "       8.40227960e-29, 3.05996060e-29, 1.11438316e-29, 4.05838501e-30,\n",
              "       1.47799155e-30, 5.38258201e-31, 1.96024051e-31, 7.13884686e-32,\n",
              "       2.59984089e-32, 9.46815755e-33, 3.44813437e-33, 1.25574913e-33,\n",
              "       4.57321470e-34, 1.66548335e-34, 6.06539378e-35, 2.20890840e-35,\n",
              "       8.04445102e-36, 2.92964580e-36, 1.06692483e-36, 3.88555023e-37,\n",
              "       1.41504820e-37, 5.15335354e-38, 1.87675959e-38, 6.83482419e-39,\n",
              "       2.48912125e-39, 9.06493633e-40, 3.30128838e-40, 1.20227044e-40,\n",
              "       4.37845483e-41, 1.59455528e-41, 5.80708635e-42, 2.11483743e-42,\n",
              "       7.70186132e-43, 2.80488073e-43, 1.02148761e-43, 3.72007598e-44])"
            ]
          },
          "metadata": {
            "tags": []
          },
          "execution_count": 35
        }
      ]
    },
    {
      "cell_type": "code",
      "metadata": {
        "id": "w7bEdFauH7AS"
      },
      "source": [
        "delta = 0.1"
      ],
      "execution_count": null,
      "outputs": []
    },
    {
      "cell_type": "code",
      "metadata": {
        "id": "pHIh7rhZ9r2G",
        "colab": {
          "base_uri": "https://localhost:8080/",
          "height": 282
        },
        "outputId": "e1e58bcc-655b-4927-e99a-b36905fd9003"
      },
      "source": [
        "plt.plot(np.exp(-delta * temp))"
      ],
      "execution_count": null,
      "outputs": [
        {
          "output_type": "execute_result",
          "data": {
            "text/plain": [
              "[<matplotlib.lines.Line2D at 0x7f5ab0c13450>]"
            ]
          },
          "metadata": {
            "tags": []
          },
          "execution_count": 37
        },
        {
          "output_type": "display_data",
          "data": {
            "image/png": "[encoded data removed]",
            "text/plain": [
              "<Figure size 432x288 with 1 Axes>"
            ]
          },
          "metadata": {
            "tags": [],
            "needs_background": "light"
          }
        }
      ]
    },
    {
      "cell_type": "code",
      "metadata": {
        "id": "f8J644wIIiLR",
        "colab": {
          "base_uri": "https://localhost:8080/",
          "height": 183
        },
        "outputId": "1102455d-4d23-4aed-e4f0-80b3972515ed"
      },
      "source": [
        "%%html\n",
        "<img src=\"https://upload.wikimedia.org/wikipedia/commons/d/d5/Hill_Climbing_with_Simulated_Annealing.gif\">"
      ],
      "execution_count": null,
      "outputs": [
        {
          "output_type": "display_data",
          "data": {
            "text/html": [
              "<img src=\"https://upload.wikimedia.org/wikipedia/commons/d/d5/Hill_Climbing_with_Simulated_Annealing.gif\">"
            ],
            "text/plain": [
              "<IPython.core.display.HTML object>"
            ]
          },
          "metadata": {
            "tags": []
          }
        }
      ]
    },
    {
      "cell_type": "code",
      "metadata": {
        "id": "_W-NxOR9UUxh"
      },
      "source": [
        "t0=0.5\n",
        "tN=0.001\n",
        "N=100\n",
        "\n",
        "j = np.linspace(1,N,N)"
      ],
      "execution_count": null,
      "outputs": []
    },
    {
      "cell_type": "code",
      "metadata": {
        "id": "RwrtaQceUUsn",
        "colab": {
          "base_uri": "https://localhost:8080/"
        },
        "outputId": "b5bee327-deb2-42e1-c695-e6746869248c"
      },
      "source": [
        "j"
      ],
      "execution_count": null,
      "outputs": [
        {
          "output_type": "execute_result",
          "data": {
            "text/plain": [
              "array([  1.,   2.,   3.,   4.,   5.,   6.,   7.,   8.,   9.,  10.,  11.,\n",
              "        12.,  13.,  14.,  15.,  16.,  17.,  18.,  19.,  20.,  21.,  22.,\n",
              "        23.,  24.,  25.,  26.,  27.,  28.,  29.,  30.,  31.,  32.,  33.,\n",
              "        34.,  35.,  36.,  37.,  38.,  39.,  40.,  41.,  42.,  43.,  44.,\n",
              "        45.,  46.,  47.,  48.,  49.,  50.,  51.,  52.,  53.,  54.,  55.,\n",
              "        56.,  57.,  58.,  59.,  60.,  61.,  62.,  63.,  64.,  65.,  66.,\n",
              "        67.,  68.,  69.,  70.,  71.,  72.,  73.,  74.,  75.,  76.,  77.,\n",
              "        78.,  79.,  80.,  81.,  82.,  83.,  84.,  85.,  86.,  87.,  88.,\n",
              "        89.,  90.,  91.,  92.,  93.,  94.,  95.,  96.,  97.,  98.,  99.,\n",
              "       100.])"
            ]
          },
          "metadata": {
            "tags": []
          },
          "execution_count": 40
        }
      ]
    },
    {
      "cell_type": "code",
      "metadata": {
        "id": "IDAY30s_UUqZ"
      },
      "source": [
        "t = t0 - j*(t0-tN)/N"
      ],
      "execution_count": null,
      "outputs": []
    },
    {
      "cell_type": "code",
      "metadata": {
        "id": "77qkhPbMVK_u",
        "colab": {
          "base_uri": "https://localhost:8080/",
          "height": 282
        },
        "outputId": "abd84991-d5e2-4deb-b77e-ebed393b730e"
      },
      "source": [
        "plt.plot(t)"
      ],
      "execution_count": null,
      "outputs": [
        {
          "output_type": "execute_result",
          "data": {
            "text/plain": [
              "[<matplotlib.lines.Line2D at 0x7f5ab0bacd50>]"
            ]
          },
          "metadata": {
            "tags": []
          },
          "execution_count": 42
        },
        {
          "output_type": "display_data",
          "data": {
            "image/png": "[encoded data removed]",
            "text/plain": [
              "<Figure size 432x288 with 1 Axes>"
            ]
          },
          "metadata": {
            "tags": [],
            "needs_background": "light"
          }
        }
      ]
    },
    {
      "cell_type": "code",
      "metadata": {
        "id": "o1xx5NBGVRdg"
      },
      "source": [
        "t2 = t0*(tN/t0)**(j/N)"
      ],
      "execution_count": null,
      "outputs": []
    },
    {
      "cell_type": "code",
      "metadata": {
        "id": "DM9_2wL9VXER",
        "colab": {
          "base_uri": "https://localhost:8080/",
          "height": 282
        },
        "outputId": "6bec01b9-eac0-499a-91f2-f107869e5e6f"
      },
      "source": [
        "plt.plot(t2)"
      ],
      "execution_count": null,
      "outputs": [
        {
          "output_type": "execute_result",
          "data": {
            "text/plain": [
              "[<matplotlib.lines.Line2D at 0x7f5ab0b1e350>]"
            ]
          },
          "metadata": {
            "tags": []
          },
          "execution_count": 44
        },
        {
          "output_type": "display_data",
          "data": {
            "image/png": "[encoded data removed]",
            "text/plain": [
              "<Figure size 432x288 with 1 Axes>"
            ]
          },
          "metadata": {
            "tags": [],
            "needs_background": "light"
          }
        }
      ]
    },
    {
      "cell_type": "code",
      "metadata": {
        "id": "Ygirs2SeVr4-",
        "colab": {
          "base_uri": "https://localhost:8080/",
          "height": 282
        },
        "outputId": "87377f2d-2d2e-4790-bfb3-26420b78e5ef"
      },
      "source": [
        "A = ((t-tN)*(N+1))/N\n",
        "B = t0 - A\n",
        "t3 = -2*(A//(j+1)+B) +1\n",
        "plt.plot(t3) "
      ],
      "execution_count": null,
      "outputs": [
        {
          "output_type": "execute_result",
          "data": {
            "text/plain": [
              "[<matplotlib.lines.Line2D at 0x7f5ab0a822d0>]"
            ]
          },
          "metadata": {
            "tags": []
          },
          "execution_count": 45
        },
        {
          "output_type": "display_data",
          "data": {
            "image/png": "[encoded data removed]",
            "text/plain": [
              "<Figure size 432x288 with 1 Axes>"
            ]
          },
          "metadata": {
            "tags": [],
            "needs_background": "light"
          }
        }
      ]
    },
    {
      "cell_type": "code",
      "metadata": {
        "id": "SJ3v3wNSUUoJ"
      },
      "source": [
        "\t\n",
        "# \tA=((t0-tN)*(N+1))/N;\n",
        "\t\n",
        "# \tB=t0-A;\n",
        "\n",
        "# \tt(j)=2*(A./(j+1)+B);\n",
        "\t\n",
        "# \tsubplot(3,3,2)\n",
        "\t\n",
        "# \tplot(t,'LineWidth',1.5)\n",
        "#     title('A=((t0-tN)*(N+1))/N;B=t0-A;t(j)=2*(A/(j+1)+B)')\n",
        "\n",
        "\n",
        "# %%%%%%%%%%%%%%%%%%%%%%%%%%/   \n",
        "\n",
        "# \tA=log(t0-tN)./log(N);\n",
        "\n",
        "# \tt(j)=-(t0-j.^A);\n",
        "\t\n",
        "# \tsubplot(3,3,3)\n",
        "\t\n",
        "# \tplot(t,'LineWidth',1.5)\n",
        "# \ttitle('A=log(t0-tN)/log(N);t(j)=-(t0-j.^A)')\n",
        "\t\n",
        "# %%%%%%%%%%%%%%%%%%%%%%%%%%/   \n",
        "\n",
        "\n",
        "# \tt(j)=(t0-tN)./(1+exp(.3*(j-N/2)))+tN;\n",
        "\t\n",
        "# \tsubplot(3,3,4)\n",
        "\t\n",
        "# \tplot(t,'LineWidth',1.5)\n",
        "#     title('t(j)=(t0-tN)/(1+exp(.3*(j-N/2)))+tN;')\n",
        "\n",
        "# %%%%%%%%%%%%%%%%%%%%%%%%%%/   \n",
        "\n",
        "\n",
        "# \tt(j)=(1/2)*(t0-tN)*(1+cos(j*pi/N))+tN;\n",
        "\t\n",
        "# \tsubplot(3,3,5)\n",
        "\t\n",
        "# \tplot(t,'LineWidth',1.5)\n",
        "#     title('t(j)=(1/2)*(t0-tN)*(1+cos(j*pi/N))+tN')\n",
        "\t\n",
        "\t\n",
        "# %%%%%%%%%%%%%%%%%%%%%%%%%%/   \n",
        "\n",
        "\n",
        "# \tt(j)=(1/2)*(t0-tN)*(1-tanh(10*j/N-5))+tN;\n",
        "\t\n",
        "# \tsubplot(3,3,6)\n",
        "\t\n",
        "# \tplot(t,'LineWidth',1.5)\n",
        "#     title('t(j)=(1/2)*(t0-tN)*(1-tanh(10*j/N-5))+tN')\n",
        "\t\n",
        "\t\n",
        "# %%%%%%%%%%%%%%%%%%%%%%%%%%/   \n",
        "\t\n",
        "\t\n",
        "\t\n",
        "# \tt(j)=(t0-tN)./(cosh(10*j/N))+tN;\n",
        "\t\n",
        "# \tsubplot(3,3,7)\n",
        "\t\n",
        "# \tplot(t,'LineWidth',1.5)\n",
        "#     title('t(j)=(t0-tN)/(cosh(10*j/N))+tN')\n",
        "\t\n",
        "\t\n",
        "# %%%%%%%%%%%%%%%%%%%%%%%%%%/   \n",
        "\n",
        "# \tA=(1/N)*log(t0/tN);\n",
        "\n",
        "# \tt(j)=t0*exp(-A*j);\n",
        "\t\n",
        "# \tsubplot(3,3,8)\n",
        "\t\n",
        "# \tplot(t,'LineWidth',1.5)\n",
        "#     title('A=(1/N)*log(t0/tN);t(j)=t0*exp(-A*j)')\n",
        "\t\n",
        "\t\n",
        "# %%%%%%%%%%%%%%%%%%%%%%%%%%/   \n",
        "\n",
        "# \tA=(1/N^2)*log(t0/tN);\n",
        "\n",
        "# \tt(j)=t0*exp(-A*j.^2);\n",
        "\t\n",
        "# \tsubplot(3,3,9)\n",
        "\t\n",
        "# \tplot(t,'LineWidth',1.5)\n",
        "#     title('A=(1/N^2)*log(t0/tN);t(j)=t0*exp(-A*j^2)')\n",
        "\t\n",
        "\t"
      ],
      "execution_count": null,
      "outputs": []
    },
    {
      "cell_type": "code",
      "metadata": {
        "id": "fuvReEQ1UUlQ"
      },
      "source": [
        ""
      ],
      "execution_count": null,
      "outputs": []
    },
    {
      "cell_type": "code",
      "metadata": {
        "id": "pOVgbmPKUUiS"
      },
      "source": [
        ""
      ],
      "execution_count": null,
      "outputs": []
    },
    {
      "cell_type": "code",
      "metadata": {
        "id": "Hg9Q6M-jh68I"
      },
      "source": [
        "def SA(f, x):\n",
        "    \n",
        "    a  = 0.01\n",
        "    t0 = 100\n",
        "    t  = t0\n",
        "    \n",
        "    for i in range(1000):\n",
        "\n",
        "        for j in range(100):\n",
        "            \n",
        "            xi = x + noise()\n",
        "            \n",
        "            delta = f(x) - f(xi) #compare between current condition and previous on \n",
        "            \n",
        "            if(delta <= 0.0 or (exp(-delta * t) > random())):\n",
        "                \n",
        "                x = xi\n",
        "        \n",
        "        t = t - a #reduce the temperature\n",
        "\n",
        "    return x #do it if it is cooler (review)"
      ],
      "execution_count": null,
      "outputs": []
    },
    {
      "cell_type": "markdown",
      "metadata": {
        "id": "vfn9yioMYRWI"
      },
      "source": [
        ""
      ]
    },
    {
      "cell_type": "code",
      "metadata": {
        "id": "7wAhCjL7h68K"
      },
      "source": [
        "def f(x):\n",
        "    return -(x[0]**2) - (x[1]**2)"
      ],
      "execution_count": null,
      "outputs": []
    },
    {
      "cell_type": "code",
      "metadata": {
        "id": "DEH1dBtXh68N"
      },
      "source": [
        "p = ((5.0,10.0))"
      ],
      "execution_count": null,
      "outputs": []
    },
    {
      "cell_type": "code",
      "metadata": {
        "id": "XTum65KW_QnA",
        "colab": {
          "base_uri": "https://localhost:8080/"
        },
        "outputId": "a3893642-4fac-403f-d972-e7552c4cb499"
      },
      "source": [
        "f((5.0,10.0))"
      ],
      "execution_count": null,
      "outputs": [
        {
          "output_type": "execute_result",
          "data": {
            "text/plain": [
              "-125.0"
            ]
          },
          "metadata": {
            "tags": []
          },
          "execution_count": 49
        }
      ]
    },
    {
      "cell_type": "code",
      "metadata": {
        "id": "uUdca6rYh68P",
        "colab": {
          "base_uri": "https://localhost:8080/"
        },
        "outputId": "adccfaea-d1eb-406c-cbfd-49a8527e7db0"
      },
      "source": [
        "SA(f, p)"
      ],
      "execution_count": null,
      "outputs": [
        {
          "output_type": "execute_result",
          "data": {
            "text/plain": [
              "array([-0.07935792, -0.03333556])"
            ]
          },
          "metadata": {
            "tags": []
          },
          "execution_count": 50
        }
      ]
    },
    {
      "cell_type": "code",
      "metadata": {
        "id": "NJKwGiACiWWy"
      },
      "source": [
        ""
      ],
      "execution_count": null,
      "outputs": []
    },
    {
      "cell_type": "code",
      "metadata": {
        "id": "pUqBWBiliWaO"
      },
      "source": [
        ""
      ],
      "execution_count": null,
      "outputs": []
    },
    {
      "cell_type": "code",
      "metadata": {
        "id": "j6gEN3k4feH2"
      },
      "source": [
        ""
      ],
      "execution_count": null,
      "outputs": []
    },
    {
      "cell_type": "code",
      "metadata": {
        "id": "7jifx-4OfeRR"
      },
      "source": [
        "n = np.arange(20)"
      ],
      "execution_count": null,
      "outputs": []
    },
    {
      "cell_type": "code",
      "metadata": {
        "id": "sANqYfnafeON",
        "colab": {
          "base_uri": "https://localhost:8080/"
        },
        "outputId": "d561295c-ab94-410a-87b4-bedde32f3535"
      },
      "source": [
        "n"
      ],
      "execution_count": null,
      "outputs": [
        {
          "output_type": "execute_result",
          "data": {
            "text/plain": [
              "array([ 0,  1,  2,  3,  4,  5,  6,  7,  8,  9, 10, 11, 12, 13, 14, 15, 16,\n",
              "       17, 18, 19])"
            ]
          },
          "metadata": {
            "tags": []
          },
          "execution_count": 52
        }
      ]
    },
    {
      "cell_type": "code",
      "metadata": {
        "id": "0OX_gP3-feLs"
      },
      "source": [
        "from scipy.special import factorial"
      ],
      "execution_count": null,
      "outputs": []
    },
    {
      "cell_type": "code",
      "metadata": {
        "id": "qe8NGqKex6f9",
        "colab": {
          "base_uri": "https://localhost:8080/"
        },
        "outputId": "9f14ca3e-af52-4449-d1e4-88e5865153d6"
      },
      "source": [
        "factorial(n)"
      ],
      "execution_count": null,
      "outputs": [
        {
          "output_type": "execute_result",
          "data": {
            "text/plain": [
              "array([1.00000000e+00, 1.00000000e+00, 2.00000000e+00, 6.00000000e+00,\n",
              "       2.40000000e+01, 1.20000000e+02, 7.20000000e+02, 5.04000000e+03,\n",
              "       4.03200000e+04, 3.62880000e+05, 3.62880000e+06, 3.99168000e+07,\n",
              "       4.79001600e+08, 6.22702080e+09, 8.71782912e+10, 1.30767437e+12,\n",
              "       2.09227899e+13, 3.55687428e+14, 6.40237371e+15, 1.21645100e+17])"
            ]
          },
          "metadata": {
            "tags": []
          },
          "execution_count": 54
        }
      ]
    },
    {
      "cell_type": "code",
      "metadata": {
        "id": "RBva3JC57GMl",
        "colab": {
          "base_uri": "https://localhost:8080/",
          "height": 292
        },
        "outputId": "311f6bb0-1adc-4a3f-c845-8c72f90f3f45"
      },
      "source": [
        "n = np.arange(100)\n",
        "plt.plot(n,factorial(n))"
      ],
      "execution_count": null,
      "outputs": [
        {
          "output_type": "execute_result",
          "data": {
            "text/plain": [
              "[<matplotlib.lines.Line2D at 0x7f5ab0c4f750>]"
            ]
          },
          "metadata": {
            "tags": []
          },
          "execution_count": 55
        },
        {
          "output_type": "display_data",
          "data": {
            "image/png": "[encoded data removed]",
            "text/plain": [
              "<Figure size 432x288 with 1 Axes>"
            ]
          },
          "metadata": {
            "tags": [],
            "needs_background": "light"
          }
        }
      ]
    },
    {
      "cell_type": "markdown",
      "metadata": {
        "id": "Qke9qWPIVyG1"
      },
      "source": [
        "#TSP"
      ]
    },
    {
      "cell_type": "code",
      "metadata": {
        "id": "60jsT397K5HM"
      },
      "source": [
        "from scipy.special import factorial"
      ],
      "execution_count": null,
      "outputs": []
    },
    {
      "cell_type": "code",
      "metadata": {
        "id": "TYmVQox1Kc_r"
      },
      "source": [
        "n =96 #Make n Sample Cities"
      ],
      "execution_count": null,
      "outputs": []
    },
    {
      "cell_type": "markdown",
      "metadata": {
        "id": "4Fzbuf_gYiH4"
      },
      "source": [
        "lets say they are building "
      ]
    },
    {
      "cell_type": "code",
      "metadata": {
        "id": "KwQHna_JKfUh",
        "colab": {
          "base_uri": "https://localhost:8080/"
        },
        "outputId": "f2d98c35-e8a3-4598-9bfb-5fcccbfd1942"
      },
      "source": [
        "factorial(n) #Number of possible tours"
      ],
      "execution_count": null,
      "outputs": [
        {
          "output_type": "execute_result",
          "data": {
            "text/plain": [
              "9.916779348709498e+149"
            ]
          },
          "metadata": {
            "tags": []
          },
          "execution_count": 60
        }
      ]
    },
    {
      "cell_type": "markdown",
      "metadata": {
        "id": "Hhc9BZNzYlys"
      },
      "source": [
        "The number of combinations with those buildings. This is exceeds vastly the number of particles in the universe. We cannot test them all. Ants do it so lets take a look: Heuristic- lets do what we can do and lets give it a go. No pesimism anymore "
      ]
    },
    {
      "cell_type": "code",
      "metadata": {
        "id": "K3ydbRmMVxLr"
      },
      "source": [
        "cities = 100*np.random.random((n,2)) #lat/long"
      ],
      "execution_count": null,
      "outputs": []
    },
    {
      "cell_type": "markdown",
      "metadata": {
        "id": "ClrrSFP5ZEQ6"
      },
      "source": [
        "The building live in a grid of 100 miles square. They have an x and y coordinates, that is the (n,2)"
      ]
    },
    {
      "cell_type": "code",
      "metadata": {
        "id": "kJ1WnZaIVxGH"
      },
      "source": [
        "cities[n-1] = cities[0] #Q"
      ],
      "execution_count": null,
      "outputs": []
    },
    {
      "cell_type": "markdown",
      "metadata": {
        "id": "cNxHTCLEZO0v"
      },
      "source": [
        "We will make it a tour so we have to get back where we started. "
      ]
    },
    {
      "cell_type": "code",
      "metadata": {
        "id": "DULBTvp27GO_",
        "colab": {
          "base_uri": "https://localhost:8080/",
          "height": 282
        },
        "outputId": "56fd332c-c0e2-45c5-f68c-c7a4b8feed11"
      },
      "source": [
        "plt.plot(cities[:,0],cities[:,1],'*')"
      ],
      "execution_count": null,
      "outputs": [
        {
          "output_type": "execute_result",
          "data": {
            "text/plain": [
              "[<matplotlib.lines.Line2D at 0x7f5ab094e990>]"
            ]
          },
          "metadata": {
            "tags": []
          },
          "execution_count": 64
        },
        {
          "output_type": "display_data",
          "data": {
            "image/png": "[encoded data removed]",
            "text/plain": [
              "<Figure size 432x288 with 1 Axes>"
            ]
          },
          "metadata": {
            "tags": [],
            "needs_background": "light"
          }
        }
      ]
    },
    {
      "cell_type": "code",
      "metadata": {
        "id": "CNImWiVU7GRa",
        "colab": {
          "base_uri": "https://localhost:8080/",
          "height": 265
        },
        "outputId": "7de9b664-168f-4d7d-a5c6-cd015f71b9b8"
      },
      "source": [
        "plt.plot(cities[:,0],cities[:,1], '*b-');"
      ],
      "execution_count": null,
      "outputs": [
        {
          "output_type": "display_data",
          "data": {
            "image/png": "[encoded data removed]",
            "text/plain": [
              "<Figure size 432x288 with 1 Axes>"
            ]
          },
          "metadata": {
            "tags": [],
            "needs_background": "light"
          }
        }
      ]
    },
    {
      "cell_type": "code",
      "metadata": {
        "id": "RuVInwjsMUlE"
      },
      "source": [
        "tour = np.random.permutation(n) #A tour is a list of the cities in the order of travel"
      ],
      "execution_count": null,
      "outputs": []
    },
    {
      "cell_type": "markdown",
      "metadata": {
        "id": "Cn5d6o-hZgTZ"
      },
      "source": [
        "Tour is a t-shirt and in the back is the way they traveled through the cities. "
      ]
    },
    {
      "cell_type": "code",
      "metadata": {
        "id": "qu82y522MUoE",
        "colab": {
          "base_uri": "https://localhost:8080/"
        },
        "outputId": "05f26d7a-2a5f-4c35-ada0-3378b173ef12"
      },
      "source": [
        "tour"
      ],
      "execution_count": null,
      "outputs": [
        {
          "output_type": "execute_result",
          "data": {
            "text/plain": [
              "array([15, 81, 57, 51, 56,  9, 66, 65, 77, 13, 43, 38, 39, 22, 36, 68, 29,\n",
              "       59, 44, 78, 50, 32, 71, 83, 82,  1, 23,  3, 31, 18,  7, 67, 80, 70,\n",
              "       24, 19, 64, 45, 72, 40, 41, 49, 20, 73, 93, 47, 92, 53, 48, 76, 87,\n",
              "       58,  0, 12, 63, 25,  8, 52,  4, 46, 10, 90, 27, 84, 61, 37,  2, 55,\n",
              "       75, 91, 11, 17, 34,  6, 89,  5, 26, 95, 54, 14, 62, 60, 33, 35, 28,\n",
              "       85, 86, 74, 94, 21, 30, 16, 88, 69, 79, 42])"
            ]
          },
          "metadata": {
            "tags": []
          },
          "execution_count": 67
        }
      ]
    },
    {
      "cell_type": "markdown",
      "metadata": {
        "id": "zqRnPluYZmQZ"
      },
      "source": [
        ""
      ]
    },
    {
      "cell_type": "code",
      "metadata": {
        "id": "XEbPgMi-MUwI"
      },
      "source": [
        "def swap(tour):\n",
        "\n",
        "    tour = tour.copy()\n",
        "\n",
        "    i = np.random.randint(n)\n",
        "    j = np.random.randint(n)\n",
        "\n",
        "    tour[[i,j],] = tour[[j,i],]\n",
        "\n",
        "    return tour"
      ],
      "execution_count": null,
      "outputs": []
    },
    {
      "cell_type": "markdown",
      "metadata": {
        "id": "efNI4VqKZq8Q"
      },
      "source": [
        "We will swap two buildings from the total "
      ]
    },
    {
      "cell_type": "code",
      "metadata": {
        "id": "sWnCwpOrMUzH",
        "colab": {
          "base_uri": "https://localhost:8080/"
        },
        "outputId": "5dfd1f28-28ad-447b-bcaf-70f845e0a8bf"
      },
      "source": [
        "tour"
      ],
      "execution_count": null,
      "outputs": [
        {
          "output_type": "execute_result",
          "data": {
            "text/plain": [
              "array([29, 31, 73, 38, 45, 56, 69, 79, 89, 27, 55, 39, 24, 60, 19, 87, 95,\n",
              "       78,  5, 48, 13, 94, 18,  3, 84, 37, 81, 47,  0, 11, 61, 82, 63, 26,\n",
              "       67, 54, 53, 41,  1, 50, 15, 36, 77, 16, 86, 83, 40, 43,  2, 21, 12,\n",
              "       57, 23, 22, 46, 58, 68,  7, 17,  4, 30, 76, 66, 28,  6, 71, 20, 90,\n",
              "       25, 88, 52, 42, 51, 49, 10, 59, 72, 91, 74, 14, 93, 70, 85, 92, 33,\n",
              "       75, 35, 32,  8,  9, 44, 65, 34, 64, 80, 62])"
            ]
          },
          "metadata": {
            "tags": []
          },
          "execution_count": 84
        }
      ]
    },
    {
      "cell_type": "code",
      "metadata": {
        "id": "XsPlrqTLNoAs",
        "colab": {
          "base_uri": "https://localhost:8080/"
        },
        "outputId": "e19c9eff-fc17-492c-b050-bd0f0f875963"
      },
      "source": [
        "cities"
      ],
      "execution_count": null,
      "outputs": [
        {
          "output_type": "execute_result",
          "data": {
            "text/plain": [
              "array([[ 4.70502752, 74.03976283],\n",
              "       [32.56052115, 48.47396236],\n",
              "       [50.18638669, 37.76524832],\n",
              "       [19.37654536, 58.64521562],\n",
              "       [53.88786901, 12.31123877],\n",
              "       [50.07194937, 26.21656851],\n",
              "       [94.71907881, 42.5959592 ],\n",
              "       [ 7.40996108, 25.24952756],\n",
              "       [29.19960217, 42.27941069],\n",
              "       [ 5.96923505, 54.94061317],\n",
              "       [97.12611796, 90.4537382 ],\n",
              "       [82.54070489, 62.26116937],\n",
              "       [45.94423345, 94.14678513],\n",
              "       [36.24079171, 93.01170491],\n",
              "       [97.82482643,  2.69334023],\n",
              "       [83.08934707, 97.61350773],\n",
              "       [13.04871304, 73.34005539],\n",
              "       [48.89444742, 78.06815114],\n",
              "       [22.79121119, 94.30478978],\n",
              "       [60.68221152, 94.95997899],\n",
              "       [57.90997154, 76.86846688],\n",
              "       [37.03889903, 28.45775883],\n",
              "       [40.75591703, 65.08004817],\n",
              "       [96.29292694, 19.31971244],\n",
              "       [20.71412118, 97.01487255],\n",
              "       [61.74450979, 44.84612111],\n",
              "       [95.46905535, 67.06881227],\n",
              "       [65.00126763, 30.7581234 ],\n",
              "       [32.43633331, 53.4762665 ],\n",
              "       [61.58560882, 77.24648452],\n",
              "       [78.11357696, 86.61806441],\n",
              "       [44.69961329, 62.59999657],\n",
              "       [33.27442186, 67.84160596],\n",
              "       [99.03287526, 18.16147454],\n",
              "       [64.00179006, 32.40153114],\n",
              "       [95.57992997,  2.39103208],\n",
              "       [18.28442115, 25.95939623],\n",
              "       [74.17169352, 10.11341108],\n",
              "       [42.53560438, 21.29665951],\n",
              "       [50.13973862, 32.34763582],\n",
              "       [56.5365991 , 13.41108691],\n",
              "       [56.702629  , 70.93694755],\n",
              "       [19.22218343, 77.26428863],\n",
              "       [20.70336578, 21.70306519],\n",
              "       [ 6.5782309 , 78.11456607],\n",
              "       [66.94771017, 33.12688343],\n",
              "       [43.36856354, 57.17668117],\n",
              "       [79.97799618, 12.48316953],\n",
              "       [75.48912768, 91.47962374],\n",
              "       [45.88739835, 21.23541463],\n",
              "       [51.06548437,  4.04968329],\n",
              "       [19.66846755,  1.1483217 ],\n",
              "       [27.37103452, 29.57663872],\n",
              "       [10.3776284 , 60.27111754],\n",
              "       [30.87693947,  5.99510676],\n",
              "       [73.03828387, 68.50073501],\n",
              "       [46.06261842, 36.65157874],\n",
              "       [35.74418994, 93.63789027],\n",
              "       [16.02886646, 87.81307171],\n",
              "       [93.99597834, 61.78176546],\n",
              "       [34.14696803, 57.9489932 ],\n",
              "       [29.40588899, 14.35436479],\n",
              "       [20.61535331, 98.63154169],\n",
              "       [38.26660015, 49.7721985 ],\n",
              "       [77.40177739, 93.20762414],\n",
              "       [ 1.30390308, 66.64065626],\n",
              "       [ 5.91261748,  7.87246553],\n",
              "       [90.96134214, 69.52452084],\n",
              "       [33.31750613, 69.73897548],\n",
              "       [45.23513686, 27.82635884],\n",
              "       [81.56438927, 73.12751922],\n",
              "       [36.75832948,  6.24739814],\n",
              "       [19.64638557, 15.54353546],\n",
              "       [45.41750071, 14.8021087 ],\n",
              "       [70.425894  , 60.20373456],\n",
              "       [42.40388773, 79.47757076],\n",
              "       [17.07685499, 90.94912634],\n",
              "       [94.22648498,  2.71128212],\n",
              "       [ 9.69175548, 90.63311652],\n",
              "       [ 2.39767897, 74.50069272],\n",
              "       [70.60131367, 81.27714041],\n",
              "       [45.14491512, 95.9518687 ],\n",
              "       [35.76181437, 93.11384718],\n",
              "       [60.86123945, 21.24915223],\n",
              "       [86.85114775, 50.22194696],\n",
              "       [94.56109489, 40.15629922],\n",
              "       [29.77770942, 54.58122533],\n",
              "       [25.89657902, 89.62785014],\n",
              "       [ 7.18998247,  0.50755181],\n",
              "       [53.23551668, 48.82040084],\n",
              "       [55.99868726, 79.52408577],\n",
              "       [19.97103523, 73.22155941],\n",
              "       [39.24338826, 42.56234426],\n",
              "       [80.81217878, 34.95167382],\n",
              "       [ 8.83483563, 57.87354816],\n",
              "       [ 4.70502752, 74.03976283]])"
            ]
          },
          "metadata": {
            "tags": []
          },
          "execution_count": 85
        }
      ]
    },
    {
      "cell_type": "code",
      "metadata": {
        "id": "IiV9jxWj7GTZ",
        "colab": {
          "base_uri": "https://localhost:8080/"
        },
        "outputId": "e9e91b9e-5a32-43a3-cfe8-c414178cbde5"
      },
      "source": [
        "cities[tour]"
      ],
      "execution_count": null,
      "outputs": [
        {
          "output_type": "execute_result",
          "data": {
            "text/plain": [
              "array([[61.58560882, 77.24648452],\n",
              "       [44.69961329, 62.59999657],\n",
              "       [45.41750071, 14.8021087 ],\n",
              "       [42.53560438, 21.29665951],\n",
              "       [66.94771017, 33.12688343],\n",
              "       [46.06261842, 36.65157874],\n",
              "       [45.23513686, 27.82635884],\n",
              "       [ 2.39767897, 74.50069272],\n",
              "       [53.23551668, 48.82040084],\n",
              "       [65.00126763, 30.7581234 ],\n",
              "       [73.03828387, 68.50073501],\n",
              "       [50.13973862, 32.34763582],\n",
              "       [20.71412118, 97.01487255],\n",
              "       [34.14696803, 57.9489932 ],\n",
              "       [60.68221152, 94.95997899],\n",
              "       [25.89657902, 89.62785014],\n",
              "       [ 4.70502752, 74.03976283],\n",
              "       [ 9.69175548, 90.63311652],\n",
              "       [50.07194937, 26.21656851],\n",
              "       [75.48912768, 91.47962374],\n",
              "       [36.24079171, 93.01170491],\n",
              "       [ 8.83483563, 57.87354816],\n",
              "       [22.79121119, 94.30478978],\n",
              "       [19.37654536, 58.64521562],\n",
              "       [86.85114775, 50.22194696],\n",
              "       [74.17169352, 10.11341108],\n",
              "       [45.14491512, 95.9518687 ],\n",
              "       [79.97799618, 12.48316953],\n",
              "       [ 4.70502752, 74.03976283],\n",
              "       [82.54070489, 62.26116937],\n",
              "       [29.40588899, 14.35436479],\n",
              "       [35.76181437, 93.11384718],\n",
              "       [38.26660015, 49.7721985 ],\n",
              "       [95.46905535, 67.06881227],\n",
              "       [90.96134214, 69.52452084],\n",
              "       [30.87693947,  5.99510676],\n",
              "       [10.3776284 , 60.27111754],\n",
              "       [56.702629  , 70.93694755],\n",
              "       [32.56052115, 48.47396236],\n",
              "       [51.06548437,  4.04968329],\n",
              "       [83.08934707, 97.61350773],\n",
              "       [18.28442115, 25.95939623],\n",
              "       [94.22648498,  2.71128212],\n",
              "       [13.04871304, 73.34005539],\n",
              "       [29.77770942, 54.58122533],\n",
              "       [60.86123945, 21.24915223],\n",
              "       [56.5365991 , 13.41108691],\n",
              "       [20.70336578, 21.70306519],\n",
              "       [50.18638669, 37.76524832],\n",
              "       [37.03889903, 28.45775883],\n",
              "       [45.94423345, 94.14678513],\n",
              "       [35.74418994, 93.63789027],\n",
              "       [96.29292694, 19.31971244],\n",
              "       [40.75591703, 65.08004817],\n",
              "       [43.36856354, 57.17668117],\n",
              "       [16.02886646, 87.81307171],\n",
              "       [33.31750613, 69.73897548],\n",
              "       [ 7.40996108, 25.24952756],\n",
              "       [48.89444742, 78.06815114],\n",
              "       [53.88786901, 12.31123877],\n",
              "       [78.11357696, 86.61806441],\n",
              "       [17.07685499, 90.94912634],\n",
              "       [ 5.91261748,  7.87246553],\n",
              "       [32.43633331, 53.4762665 ],\n",
              "       [94.71907881, 42.5959592 ],\n",
              "       [36.75832948,  6.24739814],\n",
              "       [57.90997154, 76.86846688],\n",
              "       [55.99868726, 79.52408577],\n",
              "       [61.74450979, 44.84612111],\n",
              "       [ 7.18998247,  0.50755181],\n",
              "       [27.37103452, 29.57663872],\n",
              "       [19.22218343, 77.26428863],\n",
              "       [19.66846755,  1.1483217 ],\n",
              "       [45.88739835, 21.23541463],\n",
              "       [97.12611796, 90.4537382 ],\n",
              "       [93.99597834, 61.78176546],\n",
              "       [19.64638557, 15.54353546],\n",
              "       [19.97103523, 73.22155941],\n",
              "       [70.425894  , 60.20373456],\n",
              "       [97.82482643,  2.69334023],\n",
              "       [80.81217878, 34.95167382],\n",
              "       [81.56438927, 73.12751922],\n",
              "       [94.56109489, 40.15629922],\n",
              "       [39.24338826, 42.56234426],\n",
              "       [99.03287526, 18.16147454],\n",
              "       [42.40388773, 79.47757076],\n",
              "       [95.57992997,  2.39103208],\n",
              "       [33.27442186, 67.84160596],\n",
              "       [29.19960217, 42.27941069],\n",
              "       [ 5.96923505, 54.94061317],\n",
              "       [ 6.5782309 , 78.11456607],\n",
              "       [ 1.30390308, 66.64065626],\n",
              "       [64.00179006, 32.40153114],\n",
              "       [77.40177739, 93.20762414],\n",
              "       [70.60131367, 81.27714041],\n",
              "       [20.61535331, 98.63154169]])"
            ]
          },
          "metadata": {
            "tags": []
          },
          "execution_count": 86
        }
      ]
    },
    {
      "cell_type": "code",
      "metadata": {
        "id": "6YfPS5zN7GXx"
      },
      "source": [
        "def travel_cost(cities):\n",
        "\n",
        "    total_distance = 0 \n",
        "\n",
        "    for i in range(cities.shape[0]-1):\n",
        "\n",
        "        distance = np.sqrt( (cities[i,0] - cities[i+1,0])**2  +  (cities[i,1] - cities[i+1,1])**2 )\n",
        "\n",
        "        total_distance += distance\n",
        "\n",
        "    return total_distance"
      ],
      "execution_count": null,
      "outputs": []
    },
    {
      "cell_type": "markdown",
      "metadata": {
        "id": "49sWiIUAZ1d4"
      },
      "source": [
        "Here we are using Pytagorean distance. To see the distance from one city from the next. "
      ]
    },
    {
      "cell_type": "code",
      "metadata": {
        "id": "S0LtH9nk7GV4",
        "colab": {
          "base_uri": "https://localhost:8080/"
        },
        "outputId": "96fb5933-ee22-43a7-94af-106dfe77a430"
      },
      "source": [
        "travel_cost(cities)"
      ],
      "execution_count": null,
      "outputs": [
        {
          "output_type": "execute_result",
          "data": {
            "text/plain": [
              "4806.063589540903"
            ]
          },
          "metadata": {
            "tags": []
          },
          "execution_count": 88
        }
      ]
    },
    {
      "cell_type": "markdown",
      "metadata": {
        "id": "oviTETFxaFyv"
      },
      "source": [
        "This will be the cost of the total tour"
      ]
    },
    {
      "cell_type": "code",
      "metadata": {
        "id": "YGz0UVnaOcMa"
      },
      "source": [
        "tour = np.random.permutation(n) #A tour is a list of the cities in the order of travel"
      ],
      "execution_count": null,
      "outputs": []
    },
    {
      "cell_type": "code",
      "metadata": {
        "id": "u-JYlwSOOVeV",
        "colab": {
          "base_uri": "https://localhost:8080/"
        },
        "outputId": "376ac5f6-2ea3-4631-8d85-1aebecda59ef"
      },
      "source": [
        "travel_cost(cities[tour])"
      ],
      "execution_count": null,
      "outputs": [
        {
          "output_type": "execute_result",
          "data": {
            "text/plain": [
              "5057.761178122208"
            ]
          },
          "metadata": {
            "tags": []
          },
          "execution_count": 127
        }
      ]
    },
    {
      "cell_type": "markdown",
      "metadata": {
        "id": "tbvl8tZeaKqo"
      },
      "source": [
        "Then we compare with another tour and see that this one is more expensive "
      ]
    },
    {
      "cell_type": "code",
      "metadata": {
        "id": "A57gonnQOVgi"
      },
      "source": [
        "t = np.linspace(0,1,10000)\n",
        "cooling_schedule = np.exp(-5*t)"
      ],
      "execution_count": null,
      "outputs": []
    },
    {
      "cell_type": "code",
      "metadata": {
        "id": "mm9ob_tdOVqH",
        "colab": {
          "base_uri": "https://localhost:8080/",
          "height": 282
        },
        "outputId": "3aa97bc1-7983-43ec-cf9e-4ccb0e3d996b"
      },
      "source": [
        "plt.plot(cooling_schedule)"
      ],
      "execution_count": null,
      "outputs": [
        {
          "output_type": "execute_result",
          "data": {
            "text/plain": [
              "[<matplotlib.lines.Line2D at 0x7f5ab02fe190>]"
            ]
          },
          "metadata": {
            "tags": []
          },
          "execution_count": 129
        },
        {
          "output_type": "display_data",
          "data": {
            "image/png": "[encoded data removed]",
            "text/plain": [
              "<Figure size 432x288 with 1 Axes>"
            ]
          },
          "metadata": {
            "tags": [],
            "needs_background": "light"
          }
        }
      ]
    },
    {
      "cell_type": "markdown",
      "metadata": {
        "id": "UtfaBKXjal9T"
      },
      "source": [
        "The temperature really gives you a strategy. If the temperature is cold is greeady, when it is hot, it is more exploration. Start like a random walk. You start cold and then get warm and more confident. We want to use the idea of temperature here. This is a gradient. This is a recipe that will determine how the strategy will be. "
      ]
    },
    {
      "cell_type": "code",
      "metadata": {
        "id": "_MLUXnrwczD5"
      },
      "source": [
        "delta = -0.1 #the current solution is worse by 2 or 20 than the current solution"
      ],
      "execution_count": null,
      "outputs": []
    },
    {
      "cell_type": "code",
      "metadata": {
        "id": "spHS_AAYc0QN"
      },
      "source": [
        "T = 0.1 #we can lower the temperature"
      ],
      "execution_count": null,
      "outputs": []
    },
    {
      "cell_type": "code",
      "metadata": {
        "id": "bllsMm1Oc1q_",
        "colab": {
          "base_uri": "https://localhost:8080/"
        },
        "outputId": "834917d3-441b-4bd6-a476-511a89b4df91"
      },
      "source": [
        "np.exp(delta/T)"
      ],
      "execution_count": null,
      "outputs": [
        {
          "output_type": "execute_result",
          "data": {
            "text/plain": [
              "0.36787944117144233"
            ]
          },
          "metadata": {
            "tags": []
          },
          "execution_count": 119
        }
      ]
    },
    {
      "cell_type": "markdown",
      "metadata": {
        "id": "W5yusXGJdIVL"
      },
      "source": [
        "The machine says that 0.13 is our treshold. "
      ]
    },
    {
      "cell_type": "code",
      "metadata": {
        "id": "YMLRC0PZc8ip"
      },
      "source": [
        "r = np.random.random()"
      ],
      "execution_count": null,
      "outputs": []
    },
    {
      "cell_type": "code",
      "metadata": {
        "id": "creIEMZAdtwx",
        "colab": {
          "base_uri": "https://localhost:8080/"
        },
        "outputId": "fb2d7b5a-38b4-4823-8c01-ddc0a5f95245"
      },
      "source": [
        "r"
      ],
      "execution_count": null,
      "outputs": [
        {
          "output_type": "execute_result",
          "data": {
            "text/plain": [
              "0.6263422943009268"
            ]
          },
          "metadata": {
            "tags": []
          },
          "execution_count": 121
        }
      ]
    },
    {
      "cell_type": "code",
      "metadata": {
        "id": "ubSpn87IdQW-",
        "colab": {
          "base_uri": "https://localhost:8080/"
        },
        "outputId": "35bc2b57-32f5-4ff5-dbee-6d6ade3bae5e"
      },
      "source": [
        "np.exp(delta/T)> r"
      ],
      "execution_count": null,
      "outputs": [
        {
          "output_type": "execute_result",
          "data": {
            "text/plain": [
              "False"
            ]
          },
          "metadata": {
            "tags": []
          },
          "execution_count": 122
        }
      ]
    },
    {
      "cell_type": "markdown",
      "metadata": {
        "id": "5I8-c5qUdbab"
      },
      "source": [
        "This says no chance, if it that much of uphill, I will not going to do it. This is the False. If it is -2, how much worse is from the current solution, that will make us accept it or not. The delta and the temperature are working together to make a decision to explore or not. The temperature is asking the strategy: is it a greeady strategy or it is a exploratory strategy. The delta is the diference between the current state and possible future random state. "
      ]
    },
    {
      "cell_type": "code",
      "metadata": {
        "id": "G0gkqWi0OVsk"
      },
      "source": [
        "tour = np.random.permutation(n) #add a new tour instead of running the whole thing from above again\n",
        "\n",
        "for T in cooling_schedule:  #we run our algorithm \n",
        "\n",
        "    tour2 = swap(tour)\n",
        "\n",
        "    delta =  travel_cost(cities[tour]) - travel_cost(cities[tour2]) \n",
        "\n",
        "    if delta > 0 or  np.exp( delta / T) > np.random.random():\n",
        "\n",
        "        tour = tour2"
      ],
      "execution_count": null,
      "outputs": []
    },
    {
      "cell_type": "code",
      "metadata": {
        "id": "c75XVqOKOVoT",
        "colab": {
          "base_uri": "https://localhost:8080/",
          "height": 282
        },
        "outputId": "7a08f946-449e-4841-cf30-34452498ff68"
      },
      "source": [
        "plt.plot(cities[tour][:,0],cities[tour][:,1], 'xb-')\n",
        "plt.plot(cities[tour][[n-1,0],0],cities[tour][[n-1,0],1], 'xb-')"
      ],
      "execution_count": null,
      "outputs": [
        {
          "output_type": "execute_result",
          "data": {
            "text/plain": [
              "[<matplotlib.lines.Line2D at 0x7f5ab0296dd0>]"
            ]
          },
          "metadata": {
            "tags": []
          },
          "execution_count": 132
        },
        {
          "output_type": "display_data",
          "data": {
            "image/png": "[encoded data removed]",
            "text/plain": [
              "<Figure size 432x288 with 1 Axes>"
            ]
          },
          "metadata": {
            "tags": [],
            "needs_background": "light"
          }
        }
      ]
    },
    {
      "cell_type": "code",
      "metadata": {
        "id": "4Bv70nI1OVl9",
        "colab": {
          "base_uri": "https://localhost:8080/",
          "height": 282
        },
        "outputId": "4b553041-885b-4cc6-ddfa-dbee740d8cd1"
      },
      "source": [
        "plt.plot(cities[:,0],cities[:,1], 'xb-')\n",
        "plt.plot(cities[[n-1,0],0],cities[[n-1,0],1], 'xb-')"
      ],
      "execution_count": null,
      "outputs": [
        {
          "output_type": "execute_result",
          "data": {
            "text/plain": [
              "[<matplotlib.lines.Line2D at 0x7f5ab0203790>]"
            ]
          },
          "metadata": {
            "tags": []
          },
          "execution_count": 133
        },
        {
          "output_type": "display_data",
          "data": {
            "image/png": "[encoded data removed]",
            "text/plain": [
              "<Figure size 432x288 with 1 Axes>"
            ]
          },
          "metadata": {
            "tags": [],
            "needs_background": "light"
          }
        }
      ]
    },
    {
      "cell_type": "markdown",
      "metadata": {
        "id": "el1U-er0erbz"
      },
      "source": [
        "This may be a pretty miserable tour. The cool thing about this problems is that we start with a small number of cities and we increas"
      ]
    },
    {
      "cell_type": "code",
      "metadata": {
        "id": "XL6l_TwjOVkm",
        "colab": {
          "base_uri": "https://localhost:8080/"
        },
        "outputId": "5b3a596e-81a0-4a23-8c7c-9b7e09dec433"
      },
      "source": [
        "travel_cost(cities)"
      ],
      "execution_count": null,
      "outputs": [
        {
          "output_type": "execute_result",
          "data": {
            "text/plain": [
              "4806.063589540903"
            ]
          },
          "metadata": {
            "tags": []
          },
          "execution_count": 134
        }
      ]
    },
    {
      "cell_type": "code",
      "metadata": {
        "id": "z96gkr9tOVjY",
        "colab": {
          "base_uri": "https://localhost:8080/"
        },
        "outputId": "16d3335b-e49b-44bc-fb92-cc7b354632c9"
      },
      "source": [
        "travel_cost(cities[tour])"
      ],
      "execution_count": null,
      "outputs": [
        {
          "output_type": "execute_result",
          "data": {
            "text/plain": [
              "1511.1829870953707"
            ]
          },
          "metadata": {
            "tags": []
          },
          "execution_count": 135
        }
      ]
    },
    {
      "cell_type": "markdown",
      "metadata": {
        "id": "v9KZglvofMIw"
      },
      "source": [
        "https://en.wikipedia.org/wiki/Job_shop_scheduling - example - these order of operations matter"
      ]
    },
    {
      "cell_type": "markdown",
      "metadata": {
        "id": "AKvRNqEJf2Yj"
      },
      "source": [
        "This can be used to know where the pieces of a circuit go"
      ]
    },
    {
      "cell_type": "code",
      "metadata": {
        "id": "clyv5eLTOVcY"
      },
      "source": [
        ""
      ],
      "execution_count": null,
      "outputs": []
    },
    {
      "cell_type": "code",
      "metadata": {
        "id": "KnOXpChut_t2"
      },
      "source": [
        ""
      ],
      "execution_count": null,
      "outputs": []
    },
    {
      "cell_type": "code",
      "metadata": {
        "id": "_QWw10S9t_q_"
      },
      "source": [
        ""
      ],
      "execution_count": null,
      "outputs": []
    },
    {
      "cell_type": "code",
      "metadata": {
        "id": "jCzn0DYVt_oQ"
      },
      "source": [
        ""
      ],
      "execution_count": null,
      "outputs": []
    },
    {
      "cell_type": "code",
      "metadata": {
        "id": "3ybxeOXNt_l4"
      },
      "source": [
        ""
      ],
      "execution_count": null,
      "outputs": []
    },
    {
      "cell_type": "code",
      "metadata": {
        "id": "0X1kIQqDt_i_"
      },
      "source": [
        ""
      ],
      "execution_count": null,
      "outputs": []
    },
    {
      "cell_type": "code",
      "metadata": {
        "id": "svjfY4Est_f1"
      },
      "source": [
        ""
      ],
      "execution_count": null,
      "outputs": []
    },
    {
      "cell_type": "code",
      "metadata": {
        "id": "n_cyv70ROVaM"
      },
      "source": [
        "#3D Version"
      ],
      "execution_count": null,
      "outputs": []
    },
    {
      "cell_type": "code",
      "metadata": {
        "id": "86RSCFEkQvQx"
      },
      "source": [
        "n = 60 #Make n Sample Cities"
      ],
      "execution_count": null,
      "outputs": []
    },
    {
      "cell_type": "code",
      "metadata": {
        "id": "b1Gg_pePQvWp"
      },
      "source": [
        "cities = 100*np.random.random((n,3)) #lat/long"
      ],
      "execution_count": null,
      "outputs": []
    },
    {
      "cell_type": "code",
      "metadata": {
        "id": "SEey3zQlQvdI",
        "colab": {
          "base_uri": "https://localhost:8080/",
          "height": 248
        },
        "outputId": "48091ec6-bc3f-4db6-ca1c-334e67622c82"
      },
      "source": [
        "from mpl_toolkits.mplot3d import Axes3D\n",
        "import matplotlib.pyplot as plt\n",
        "\n",
        "fig = plt.figure()\n",
        "ax = fig.add_subplot(111, projection='3d')\n",
        "\n",
        "x = cities[:,0] \n",
        "y = cities[:,1] \n",
        "z = cities[:,2] \n",
        "\n",
        "ax.scatter(x, y, z, c='b', marker='o')\n",
        "\n",
        "ax.set_xlabel('X Label')\n",
        "ax.set_ylabel('Y Label')\n",
        "ax.set_zlabel('Z Label')\n",
        "\n",
        "plt.show()"
      ],
      "execution_count": null,
      "outputs": [
        {
          "output_type": "display_data",
          "data": {
            "image/png": "[encoded data removed]",
            "text/plain": [
              "<Figure size 432x288 with 1 Axes>"
            ]
          },
          "metadata": {
            "tags": [],
            "needs_background": "light"
          }
        }
      ]
    },
    {
      "cell_type": "code",
      "metadata": {
        "id": "xEuRyEMlQvln"
      },
      "source": [
        "def plot3D(data):\n",
        "    x = data[:,0] \n",
        "    y = data[:,1] \n",
        "    z = data[:,2]\n",
        "\n",
        "    fig = plt.figure()\n",
        "    ax = fig.add_subplot(111, projection='3d') \n",
        "    ax.scatter(x, y, z, c='b', marker='o')\n",
        "    ax.set_xlabel('X Label')\n",
        "    ax.set_ylabel('Y Label')\n",
        "    ax.set_zlabel('Z Label')\n",
        "\n",
        "    ax.plot(x,y,z, color='r')\n",
        "    plt.show()"
      ],
      "execution_count": null,
      "outputs": []
    },
    {
      "cell_type": "code",
      "metadata": {
        "id": "Ary7h-6yQvrx",
        "colab": {
          "base_uri": "https://localhost:8080/",
          "height": 248
        },
        "outputId": "8696b0c3-ae72-4167-dc8f-9f446904cfed"
      },
      "source": [
        "plot3D(cities)"
      ],
      "execution_count": null,
      "outputs": [
        {
          "output_type": "display_data",
          "data": {
            "image/png": "[encoded data removed]",
            "text/plain": [
              "<Figure size 432x288 with 1 Axes>"
            ]
          },
          "metadata": {
            "tags": [],
            "needs_background": "light"
          }
        }
      ]
    },
    {
      "cell_type": "code",
      "metadata": {
        "id": "CxErSv0iQvwg"
      },
      "source": [
        "cities[n-1] = cities[0]"
      ],
      "execution_count": null,
      "outputs": []
    },
    {
      "cell_type": "code",
      "metadata": {
        "id": "FSvnT2cfQvux"
      },
      "source": [
        "def swap(tour):\n",
        "\n",
        "    tour = tour.copy()\n",
        "\n",
        "    i = np.random.randint(n)\n",
        "    j = np.random.randint(n)\n",
        "\n",
        "    tour[[i,j],] = tour[[j,i],]\n",
        "\n",
        "    return tour"
      ],
      "execution_count": null,
      "outputs": []
    },
    {
      "cell_type": "code",
      "metadata": {
        "id": "WYiFVbG4Qvqa"
      },
      "source": [
        "def travel_cost(cities):\n",
        "\n",
        "    total_distance = 0 \n",
        "\n",
        "    for i in range(cities.shape[0]-1):\n",
        "\n",
        "        distance = np.sqrt( (cities[i,0] - cities[i+1,0])**2  +  (cities[i,1] - cities[i+1,1])**2 +  (cities[i,2] - cities[i+1,2])**2 )\n",
        "\n",
        "        total_distance += distance\n",
        "\n",
        "    return total_distance"
      ],
      "execution_count": null,
      "outputs": []
    },
    {
      "cell_type": "code",
      "metadata": {
        "id": "L61losdAQvoh"
      },
      "source": [
        "t = np.linspace(0,1,10000)\n",
        "cooling_schedule = np.exp(-5*t)"
      ],
      "execution_count": null,
      "outputs": []
    },
    {
      "cell_type": "code",
      "metadata": {
        "id": "jk5xJ--9YvSs"
      },
      "source": [
        "tour = np.random.permutation(n) #A tour is a list of the cities in the order of travel"
      ],
      "execution_count": null,
      "outputs": []
    },
    {
      "cell_type": "code",
      "metadata": {
        "id": "isEG-veyQvjw"
      },
      "source": [
        "for T in cooling_schedule:\n",
        "\n",
        "    tour2 = swap(tour)\n",
        "\n",
        "    delta =  travel_cost(cities[tour]) - travel_cost(cities[tour2]) \n",
        "\n",
        "    if delta > 0 or  np.exp( delta / T) > np.random.random():\n",
        "\n",
        "        tour = tour2"
      ],
      "execution_count": null,
      "outputs": []
    },
    {
      "cell_type": "code",
      "metadata": {
        "id": "okAlBQyYQvht",
        "colab": {
          "base_uri": "https://localhost:8080/",
          "height": 248
        },
        "outputId": "08be5b25-283d-4ed2-ae16-2f94af011f6f"
      },
      "source": [
        "plot3D(cities[tour])"
      ],
      "execution_count": null,
      "outputs": [
        {
          "output_type": "display_data",
          "data": {
            "image/png": "[encoded data removed]",
            "text/plain": [
              "<Figure size 432x288 with 1 Axes>"
            ]
          },
          "metadata": {
            "tags": [],
            "needs_background": "light"
          }
        }
      ]
    },
    {
      "cell_type": "code",
      "metadata": {
        "id": "ulCnuc28QvgC",
        "colab": {
          "base_uri": "https://localhost:8080/",
          "height": 248
        },
        "outputId": "ff377f57-49d9-4747-a023-1e6859481988"
      },
      "source": [
        "plot3D(cities)"
      ],
      "execution_count": null,
      "outputs": [
        {
          "output_type": "display_data",
          "data": {
            "image/png": "[encoded data removed]",
            "text/plain": [
              "<Figure size 432x288 with 1 Axes>"
            ]
          },
          "metadata": {
            "tags": [],
            "needs_background": "light"
          }
        }
      ]
    },
    {
      "cell_type": "code",
      "metadata": {
        "id": "5zbsu60RQvbM"
      },
      "source": [
        ""
      ],
      "execution_count": null,
      "outputs": []
    },
    {
      "cell_type": "code",
      "metadata": {
        "id": "_lNtRsuiQvZe"
      },
      "source": [
        ""
      ],
      "execution_count": null,
      "outputs": []
    },
    {
      "cell_type": "code",
      "metadata": {
        "id": "zGR7LTk7QvVO"
      },
      "source": [
        ""
      ],
      "execution_count": null,
      "outputs": []
    },
    {
      "cell_type": "code",
      "metadata": {
        "id": "1J6-8oObQvTp"
      },
      "source": [
        ""
      ],
      "execution_count": null,
      "outputs": []
    },
    {
      "cell_type": "code",
      "metadata": {
        "id": "cvLxCkCMQvOs"
      },
      "source": [
        ""
      ],
      "execution_count": null,
      "outputs": []
    },
    {
      "cell_type": "code",
      "metadata": {
        "id": "eukUcVTNnra7"
      },
      "source": [
        "def f0(x):\n",
        "    z=-2*np.exp(-.01*(x[0]-5)**2 - .01*(x[1]-5)**2)\n",
        "    return z\n",
        "\n",
        "\n",
        "def f1(x):\n",
        "    z=20*(1 - np.exp(-0.2*np.sqrt(0.5*(x[0]**2 + x[1]**2))))- np.exp(0.5*(np.cos(2*np.pi*x[0]) + np.cos(2*np.pi*x[1]))) + np.exp(1)\n",
        "    return z\n",
        "\n",
        "\n",
        "def f2(x):\n",
        "    z=(1.5 - x[0] + x[0]*x[1])**2 + (2.25 - x[0] + x[0]*x[1]**2)**2 + (2.625 - x[0] + x[0]*x[1]**3)**2    \n",
        "    return z\n",
        "\n",
        "\n",
        "def f3(x):\n",
        "    z=np.sin(x[0])*np.exp((1-np.cos(x[1]))**2) + np.cos(x[1])*np.exp((1-np.sin(x[0]))**2) + (x[0]-x[1])**2\n",
        "    return z\n",
        "\n",
        "\n",
        "def f4(x):\n",
        "    z=(x[0] + 2*x[1] - 7)**2 + (2*x[0] + x[1] - 5)**2\n",
        "    return z\n",
        "\n",
        "\n",
        "def f5(x):\n",
        "    z=100*(x[1] - 0.01*x[0]**2 + 1) + 0.01*(x[0] + 10)**2\n",
        "    return z\n",
        "\n",
        "\n",
        "def f6(x):\n",
        "    z=100*x[1]**2 + 0.01*np.abs(x[0] + 10)\n",
        "    return z\n",
        "\n",
        "\n",
        "def f7(x):\n",
        "    z=100*np.sqrt(np.abs(x[1] - 0.01*x[0]**2)) + 0.01*np.abs(x[0] + 10)\n",
        "    return z\n",
        "\n",
        "\n",
        "def f8(x):\n",
        "    z=-((np.cos(x[0])*np.cos(x[1])*np.exp(np.abs(1 - np.sqrt(x[0]**2 + x[1]**2)/np.pi)))**2)/30\n",
        "    return z\n",
        "\n",
        "\n",
        "def f9(x):\n",
        "    z=x[0]**2 - 12*x[0] + 11 + 10*np.cos(np.pi*x[0]/2) + 8*np.sin(5*np.pi*x[0]/2) - 1/np.sqrt(5)*np.exp(-((x[1] - 0.5)**2)/2)\n",
        "    return z\n",
        "\n",
        "\n",
        "def f10(x):\n",
        "    z=(np.abs(np.sin(x[0])*np.sin(x[1])*np.exp(np.abs(100 - np.sqrt(x[0]**2 + x[1]**2)/np.pi))) + 1)**(-0.1)\n",
        "    return z\n",
        "\n",
        "\n",
        "def f11(x):\n",
        "    z=-0.0001*(np.abs(np.sin(x[0])*np.sin(x[1])*np.exp(np.abs(100 - np.sqrt(x[0]**2 + x[1]**2)/np.pi))) + 1)**(0.1)\n",
        "    return z\n",
        "\n",
        "\n",
        "def f12(x):\n",
        "    z=-(np.abs(np.sin(x[0])*np.sin(x[1])*np.exp(np.abs(100 - np.sqrt(x[0]**2 + x[1]**2)/np.pi))) + 1)**(-0.1)\n",
        "    return z\n",
        "\n",
        "\n",
        "def f13(x):\n",
        "    z=0.0001*(np.abs(np.sin(x[0])*np.sin(x[1])*np.exp(np.abs(100 - np.sqrt(x[0]**2 + x[1]**2)/np.pi))) + 1)**(0.1)\n",
        "    return z\n",
        "\n",
        "\n",
        "def f14(x):\n",
        "    z=(100*(x[1] - x[0]**3)**2 + (1 - x[0])**2)\n",
        "    return z\n",
        "\n",
        "def f15(x):\n",
        "    z=-np.cos(x[0])*np.cos(x[1])*np.exp(-((x[0]-np.pi)**2 + (x[1]-np.pi)**2))\n",
        "    return z\n",
        "\n",
        "\n",
        "def f16(x):\n",
        "    z=-(x[1]+47)*np.sin(np.sqrt(np.abs(x[1]+x[0]/2+47)))-x[0]*np.sin(np.sqrt(np.abs(x[0]-(x[1]+47))))\n",
        "    return z\n",
        "\n",
        "\n",
        "def f17(x):\n",
        "    z=(1  + (x[0] + x[1] + 1)**2*(19 - 14*x[0] +  3*x[0]**2 - 14*x[1] +  6*x[0]*x[1] +  3*x[1]**2))*(30 + (2*x[0] - 3*x[1])**2*(18 - 32*x[0] + 12*x[0]**2 + 48*x[1] - 36*x[0]*x[1] + 27*x[1]**2))\n",
        "    return z\n",
        "\n",
        "\n",
        "def f18(x):\n",
        "    z=(x[0]**2 + x[1]**2)/200 - np.cos(x[0])*np.cos(x[1]/np.sqrt(2)) + 1\n",
        "    return z\n",
        "\n",
        "\n",
        "def f19(x):\n",
        "    z=100*((-10*atan2(x[1], x[0])/2/np.pi)**2 + (np.sqrt(x[0]**2 + x[1]**2) - 1)**2)\n",
        "    return z\n",
        "\n",
        "\n",
        "def f20(x):\n",
        "    z=-np.abs(np.sin(x[0])*np.cos(x[1])*np.exp(np.abs(1 - np.sqrt(x[0]**2 + x[1]**2)/np.pi)))\n",
        "    return z\n",
        "\n",
        "\n",
        "def f21(x):\n",
        "    z=100*(x[1] - x[0]**2)**2 + (1 - x[0])**2\n",
        "    return z\n",
        "\n",
        "\n",
        "def f22(x):\n",
        "    z=np.sin(3*np.pi*x[0])**2 + (x[0]-1)**2*(1 + np.sin(3*np.pi*x[1])**2) + (x[1]-1)**2*(1 + np.sin(2*np.pi*x[1])**2)\n",
        "    return z\n",
        "\n",
        "\n",
        "def f23(x):\n",
        "    z=0.26*(x[0]**2 + x[1]**2) - 0.48*x[0]*x[1]\n",
        "    return z\n",
        "\n",
        "\n",
        "def f24(x):\n",
        "    z= np.sin(x[0] + x[1]) + (x[0]-x[1])**2 - 1.5*x[0] + 2.5*x[1] + 1\n",
        "    return z\n",
        "\n",
        "\n",
        "def f25(x):\n",
        "    z = 0.5  + (np.sin(x[0]**2 + x[1]**2)**2 - 0.5) / (1+0.001*(x[0]**2 + x[1]**2))**2\n",
        "    return z\n",
        "\n",
        "\n",
        "def f26(x):\n",
        "    z=0.5  + (np.sin(x[0]**2 - x[1]**2)**2 - 0.5) / (1+0.001*(x[0]**2 + x[1]**2))**2\n",
        "    return z\n",
        "\n",
        "\n",
        "def f27(x):\n",
        "    z=0.5  + (np.sin(np.cos(np.abs(x[0]**2 - x[1]**2)))**2 - 0.5) / (1+0.001*(x[0]**2 + x[1]**2))**2\n",
        "    return z\n",
        "\n",
        "\n",
        "def f28(x):\n",
        "    z= 0.5  + (np.cos(np.sin(np.abs(x[0]**2 - x[1]**2)))**2 - 0.5) / (1+0.001*(x[0]**2 + x[1]**2))**2\n",
        "    return z\n",
        "\n",
        "\n",
        "def f29(x):\n",
        "    z=-np.exp(-(np.abs(np.cos(x[0])*np.cos(x[1])*np.exp(np.abs(1 - np.sqrt(x[0]**2 + x[1]**2)/np.pi))))**(-1))\n",
        "    return z\n",
        "\n",
        "\n",
        "def f30(x):\n",
        "    z= x[0]**2 + x[1]**2 - 10*np.cos(2*np.pi*x[0]) - 10*np.cos(2*np.pi*x[1]) + 20\n",
        "    return z\n",
        "\n",
        "\n",
        "def f31(x):\n",
        "    z=(100*(x[1] - x[0]**2)**2 + (1 - x[0])**2)\n",
        "    return z\n",
        "\n",
        "\n",
        "def f32(x):\n",
        "    z=-x[0]*np.sin(np.sqrt(np.abs(x[0]))) -x[1]*np.sin(np.sqrt(np.abs(x[1])))\n",
        "    return z\n",
        "\n",
        "\n",
        "def f33(x):\n",
        "    z=(4 - 2.1*x[0]**2 + x[0]**4/3)*x[0]**2 + x[0]*x[1] + (4*x[1]**2 - 4)*x[1]**2\n",
        "    return z\n",
        "\n",
        "\n",
        "def f34(x):\n",
        "    z=-4*np.abs(np.sin(x[0])*np.cos(x[1])*np.exp(np.abs(np.cos((x[0]**2 + x[1]**2)/200))))\n",
        "    return z\n",
        "\n",
        "\n",
        "def f35(x):\n",
        "    z=2*x[0]**2 - 1.05*x[0]**4 + x[0]**6/6 + x[0]*x[1] + x[1]**2\n",
        "    return z\n",
        "\n",
        "\n",
        "def f36(x):\n",
        "    z=(x[0]**2 + x[1]**2 - 2*x[0])**2 + x[0]/4\n",
        "    return z\n"
      ],
      "execution_count": null,
      "outputs": []
    },
    {
      "cell_type": "code",
      "metadata": {
        "id": "Ktk8PvksimRU"
      },
      "source": [
        ""
      ],
      "execution_count": null,
      "outputs": []
    },
    {
      "cell_type": "code",
      "metadata": {
        "id": "hbGX0MIWFlvf"
      },
      "source": [
        ""
      ],
      "execution_count": null,
      "outputs": []
    },
    {
      "cell_type": "code",
      "metadata": {
        "id": "9EVMEcvWFl33"
      },
      "source": [
        ""
      ],
      "execution_count": null,
      "outputs": []
    },
    {
      "cell_type": "code",
      "metadata": {
        "id": "M9SWAn5HFl12"
      },
      "source": [
        ""
      ],
      "execution_count": null,
      "outputs": []
    },
    {
      "cell_type": "code",
      "metadata": {
        "id": "bBqRVljbFlzn"
      },
      "source": [
        ""
      ],
      "execution_count": null,
      "outputs": []
    },
    {
      "cell_type": "code",
      "metadata": {
        "id": "n6j-ZCtCt__k"
      },
      "source": [
        "import numpy as np\n",
        "from bokeh.plotting import figure, output_notebook, show"
      ],
      "execution_count": null,
      "outputs": []
    },
    {
      "cell_type": "code",
      "metadata": {
        "id": "Y0MaEQqot_87"
      },
      "source": [
        "def split(u, v, points):\n",
        "    # return points on left side of UV\n",
        "    return [p for p in points if np.cross(p - u, v - u) < 0]\n",
        "\n",
        "def extend(u, v, points):\n",
        "    if not points:\n",
        "        return []\n",
        "\n",
        "    # find furthest point W, and split search to WV, UW\n",
        "    w = min(points, key=lambda p: np.cross(p - u, v - u))\n",
        "    p1, p2 = split(w, v, points), split(u, w, points)\n",
        "    return extend(w, v, p1) + [w] + extend(u, w, p2)\n",
        "\n",
        "def convex_hull(points):\n",
        "    # find two hull points, U, V, and split to left and right search\n",
        "    u = min(points, key=lambda p: p[0])\n",
        "    v = max(points, key=lambda p: p[0])\n",
        "    left, right = split(u, v, points), split(v, u, points)\n",
        "    \n",
        "    # find convex hull on each side\n",
        "    return [v] + extend(u, v, left) + [u] + extend(v, u, right) + [v]"
      ],
      "execution_count": null,
      "outputs": []
    },
    {
      "cell_type": "code",
      "metadata": {
        "id": "krZ9hNrSt_6n"
      },
      "source": [
        "points = np.random.rand(100, 2)\n",
        "hull = np.array(convex_hull(points))"
      ],
      "execution_count": null,
      "outputs": []
    },
    {
      "cell_type": "code",
      "metadata": {
        "id": "bieUUKaFt_4P",
        "colab": {
          "base_uri": "https://localhost:8080/"
        },
        "outputId": "5eebf683-26e6-4075-ff84-35ed1cd464a7"
      },
      "source": [
        "hull"
      ],
      "execution_count": null,
      "outputs": [
        {
          "output_type": "execute_result",
          "data": {
            "text/plain": [
              "array([[9.97430725e-01, 2.79044343e-01],\n",
              "       [9.90699783e-01, 9.76824447e-01],\n",
              "       [4.52872176e-01, 9.72229922e-01],\n",
              "       [2.94940702e-02, 8.89678107e-01],\n",
              "       [9.52358016e-04, 8.16148758e-01],\n",
              "       [6.47521849e-03, 1.77823313e-01],\n",
              "       [1.79912096e-01, 2.36203692e-02],\n",
              "       [3.12371946e-01, 6.73060110e-03],\n",
              "       [8.76005274e-01, 2.64366582e-02],\n",
              "       [9.39775903e-01, 6.93640997e-02],\n",
              "       [9.86006186e-01, 1.11387424e-01],\n",
              "       [9.97430725e-01, 2.79044343e-01]])"
            ]
          },
          "metadata": {
            "tags": []
          },
          "execution_count": 123
        }
      ]
    },
    {
      "cell_type": "code",
      "metadata": {
        "id": "jWm5lS93t_17",
        "colab": {
          "base_uri": "https://localhost:8080/",
          "height": 617
        },
        "outputId": "82e032b4-2cac-406e-f0fc-4ff18163f40c"
      },
      "source": [
        "output_notebook()\n",
        "\n",
        "plot = figure()\n",
        "plot.scatter(x=points[:, 0], y=points[:, 1])\n",
        "plot.line(x=hull[:, 0], y=hull[:, 1], color='red')\n",
        "\n",
        "show(plot)"
      ],
      "execution_count": null,
      "outputs": [
        {
          "output_type": "display_data",
          "data": {
            "application/javascript": [
              "\n",
              "(function(root) {\n",
              "  function now() {\n",
              "    return new Date();\n",
              "  }\n",
              "\n",
              "  var force = true;\n",
              "\n",
              "  if (typeof root._bokeh_onload_callbacks === \"undefined\" || force === true) {\n",
              "    root._bokeh_onload_callbacks = [];\n",
              "    root._bokeh_is_loading = undefined;\n",
              "  }\n",
              "\n",
              "  var JS_MIME_TYPE = 'application/javascript';\n",
              "  var HTML_MIME_TYPE = 'text/html';\n",
              "  var EXEC_MIME_TYPE = 'application/vnd.bokehjs_exec.v0+json';\n",
              "  var CLASS_NAME = 'output_bokeh rendered_html';\n",
              "\n",
              "  /**\n",
              "   * Render data to the DOM node\n",
              "   */\n",
              "  function render(props, node) {\n",
              "    var script = document.createElement(\"script\");\n",
              "    node.appendChild(script);\n",
              "  }\n",
              "\n",
              "  /**\n",
              "   * Handle when an output is cleared or removed\n",
              "   */\n",
              "  function handleClearOutput(event, handle) {\n",
              "    var cell = handle.cell;\n",
              "\n",
              "    var id = cell.output_area._bokeh_element_id;\n",
              "    var server_id = cell.output_area._bokeh_server_id;\n",
              "    // Clean up Bokeh references\n",
              "    if (id != null && id in Bokeh.index) {\n",
              "      Bokeh.index[id].model.document.clear();\n",
              "      delete Bokeh.index[id];\n",
              "    }\n",
              "\n",
              "    if (server_id !== undefined) {\n",
              "      // Clean up Bokeh references\n",
              "      var cmd = \"from bokeh.io.state import curstate; print(curstate().uuid_to_server['\" + server_id + \"'].get_sessions()[0].document.roots[0]._id)\";\n",
              "      cell.notebook.kernel.execute(cmd, {\n",
              "        iopub: {\n",
              "          output: function(msg) {\n",
              "            var id = msg.content.text.trim();\n",
              "            if (id in Bokeh.index) {\n",
              "              Bokeh.index[id].model.document.clear();\n",
              "              delete Bokeh.index[id];\n",
              "            }\n",
              "          }\n",
              "        }\n",
              "      });\n",
              "      // Destroy server and session\n",
              "      var cmd = \"import bokeh.io.notebook as ion; ion.destroy_server('\" + server_id + \"')\";\n",
              "      cell.notebook.kernel.execute(cmd);\n",
              "    }\n",
              "  }\n",
              "\n",
              "  /**\n",
              "   * Handle when a new output is added\n",
              "   */\n",
              "  function handleAddOutput(event, handle) {\n",
              "    var output_area = handle.output_area;\n",
              "    var output = handle.output;\n",
              "\n",
              "    // limit handleAddOutput to display_data with EXEC_MIME_TYPE content only\n",
              "    if ((output.output_type != \"display_data\") || (!output.data.hasOwnProperty(EXEC_MIME_TYPE))) {\n",
              "      return\n",
              "    }\n",
              "\n",
              "    var toinsert = output_area.element.find(\".\" + CLASS_NAME.split(' ')[0]);\n",
              "\n",
              "    if (output.metadata[EXEC_MIME_TYPE][\"id\"] !== undefined) {\n",
              "      toinsert[toinsert.length - 1].firstChild.textContent = output.data[JS_MIME_TYPE];\n",
              "      // store reference to embed id on output_area\n",
              "      output_area._bokeh_element_id = output.metadata[EXEC_MIME_TYPE][\"id\"];\n",
              "    }\n",
              "    if (output.metadata[EXEC_MIME_TYPE][\"server_id\"] !== undefined) {\n",
              "      var bk_div = document.createElement(\"div\");\n",
              "      bk_div.innerHTML = output.data[HTML_MIME_TYPE];\n",
              "      var script_attrs = bk_div.children[0].attributes;\n",
              "      for (var i = 0; i < script_attrs.length; i++) {\n",
              "        toinsert[toinsert.length - 1].firstChild.setAttribute(script_attrs[i].name, script_attrs[i].value);\n",
              "        toinsert[toinsert.length - 1].firstChild.textContent = bk_div.children[0].textContent\n",
              "      }\n",
              "      // store reference to server id on output_area\n",
              "      output_area._bokeh_server_id = output.metadata[EXEC_MIME_TYPE][\"server_id\"];\n",
              "    }\n",
              "  }\n",
              "\n",
              "  function register_renderer(events, OutputArea) {\n",
              "\n",
              "    function append_mime(data, metadata, element) {\n",
              "      // create a DOM node to render to\n",
              "      var toinsert = this.create_output_subarea(\n",
              "        metadata,\n",
              "        CLASS_NAME,\n",
              "        EXEC_MIME_TYPE\n",
              "      );\n",
              "      this.keyboard_manager.register_events(toinsert);\n",
              "      // Render to node\n",
              "      var props = {data: data, metadata: metadata[EXEC_MIME_TYPE]};\n",
              "      render(props, toinsert[toinsert.length - 1]);\n",
              "      element.append(toinsert);\n",
              "      return toinsert\n",
              "    }\n",
              "\n",
              "    /* Handle when an output is cleared or removed */\n",
              "    events.on('clear_output.CodeCell', handleClearOutput);\n",
              "    events.on('delete.Cell', handleClearOutput);\n",
              "\n",
              "    /* Handle when a new output is added */\n",
              "    events.on('output_added.OutputArea', handleAddOutput);\n",
              "\n",
              "    /**\n",
              "     * Register the mime type and append_mime function with output_area\n",
              "     */\n",
              "    OutputArea.prototype.register_mime_type(EXEC_MIME_TYPE, append_mime, {\n",
              "      /* Is output safe? */\n",
              "      safe: true,\n",
              "      /* Index of renderer in `output_area.display_order` */\n",
              "      index: 0\n",
              "    });\n",
              "  }\n",
              "\n",
              "  // register the mime type if in Jupyter Notebook environment and previously unregistered\n",
              "  if (root.Jupyter !== undefined) {\n",
              "    var events = require('base/js/events');\n",
              "    var OutputArea = require('notebook/js/outputarea').OutputArea;\n",
              "\n",
              "    if (OutputArea.prototype.mime_types().indexOf(EXEC_MIME_TYPE) == -1) {\n",
              "      register_renderer(events, OutputArea);\n",
              "    }\n",
              "  }\n",
              "\n",
              "  \n",
              "  if (typeof (root._bokeh_timeout) === \"undefined\" || force === true) {\n",
              "    root._bokeh_timeout = Date.now() + 5000;\n",
              "    root._bokeh_failed_load = false;\n",
              "  }\n",
              "\n",
              "  var NB_LOAD_WARNING = {'data': {'text/html':\n",
              "     \"<div style='background-color: #fdd'>\\n\"+\n",
              "     \"<p>\\n\"+\n",
              "     \"BokehJS does not appear to have successfully loaded. If loading BokehJS from CDN, this \\n\"+\n",
              "     \"may be due to a slow or bad network connection. Possible fixes:\\n\"+\n",
              "     \"</p>\\n\"+\n",
              "     \"<ul>\\n\"+\n",
              "     \"<li>re-rerun `output_notebook()` to attempt to load from CDN again, or</li>\\n\"+\n",
              "     \"<li>use INLINE resources instead, as so:</li>\\n\"+\n",
              "     \"</ul>\\n\"+\n",
              "     \"<code>\\n\"+\n",
              "     \"from bokeh.resources import INLINE\\n\"+\n",
              "     \"output_notebook(resources=INLINE)\\n\"+\n",
              "     \"</code>\\n\"+\n",
              "     \"</div>\"}};\n",
              "\n",
              "  function display_loaded() {\n",
              "    var el = document.getElementById(null);\n",
              "    if (el != null) {\n",
              "      el.textContent = \"BokehJS is loading...\";\n",
              "    }\n",
              "    if (root.Bokeh !== undefined) {\n",
              "      if (el != null) {\n",
              "        el.textContent = \"BokehJS \" + root.Bokeh.version + \" successfully loaded.\";\n",
              "      }\n",
              "    } else if (Date.now() < root._bokeh_timeout) {\n",
              "      setTimeout(display_loaded, 100)\n",
              "    }\n",
              "  }\n",
              "\n",
              "\n",
              "  function run_callbacks() {\n",
              "    try {\n",
              "      root._bokeh_onload_callbacks.forEach(function(callback) {\n",
              "        if (callback != null)\n",
              "          callback();\n",
              "      });\n",
              "    } finally {\n",
              "      delete root._bokeh_onload_callbacks\n",
              "    }\n",
              "    console.debug(\"Bokeh: all callbacks have finished\");\n",
              "  }\n",
              "\n",
              "  function load_libs(css_urls, js_urls, callback) {\n",
              "    if (css_urls == null) css_urls = [];\n",
              "    if (js_urls == null) js_urls = [];\n",
              "\n",
              "    root._bokeh_onload_callbacks.push(callback);\n",
              "    if (root._bokeh_is_loading > 0) {\n",
              "      console.debug(\"Bokeh: BokehJS is being loaded, scheduling callback at\", now());\n",
              "      return null;\n",
              "    }\n",
              "    if (js_urls == null || js_urls.length === 0) {\n",
              "      run_callbacks();\n",
              "      return null;\n",
              "    }\n",
              "    console.debug(\"Bokeh: BokehJS not loaded, scheduling load and callback at\", now());\n",
              "    root._bokeh_is_loading = css_urls.length + js_urls.length;\n",
              "\n",
              "    function on_load() {\n",
              "      root._bokeh_is_loading--;\n",
              "      if (root._bokeh_is_loading === 0) {\n",
              "        console.debug(\"Bokeh: all BokehJS libraries/stylesheets loaded\");\n",
              "        run_callbacks()\n",
              "      }\n",
              "    }\n",
              "\n",
              "    function on_error() {\n",
              "      console.error(\"failed to load \" + url);\n",
              "    }\n",
              "\n",
              "    for (var i = 0; i < css_urls.length; i++) {\n",
              "      var url = css_urls[i];\n",
              "      const element = document.createElement(\"link\");\n",
              "      element.onload = on_load;\n",
              "      element.onerror = on_error;\n",
              "      element.rel = \"stylesheet\";\n",
              "      element.type = \"text/css\";\n",
              "      element.href = url;\n",
              "      console.debug(\"Bokeh: injecting link tag for BokehJS stylesheet: \", url);\n",
              "      document.body.appendChild(element);\n",
              "    }\n",
              "\n",
              "    const hashes = {\"https://cdn.bokeh.org/bokeh/release/bokeh-2.1.1.min.js\": \"kLr4fYcqcSpbuI95brIH3vnnYCquzzSxHPU6XGQCIkQRGJwhg0StNbj1eegrHs12\", \"https://cdn.bokeh.org/bokeh/release/bokeh-widgets-2.1.1.min.js\": \"xIGPmVtaOm+z0BqfSOMn4lOR6ciex448GIKG4eE61LsAvmGj48XcMQZtKcE/UXZe\", \"https://cdn.bokeh.org/bokeh/release/bokeh-tables-2.1.1.min.js\": \"Dc9u1wF/0zApGIWoBbH77iWEHtdmkuYWG839Uzmv8y8yBLXebjO9ZnERsde5Ln/P\", \"https://cdn.bokeh.org/bokeh/release/bokeh-gl-2.1.1.min.js\": \"cT9JaBz7GiRXdENrJLZNSC6eMNF3nh3fa5fTF51Svp+ukxPdwcU5kGXGPBgDCa2j\"};\n",
              "\n",
              "    for (var i = 0; i < js_urls.length; i++) {\n",
              "      var url = js_urls[i];\n",
              "      var element = document.createElement('script');\n",
              "      element.onload = on_load;\n",
              "      element.onerror = on_error;\n",
              "      element.async = false;\n",
              "      element.src = url;\n",
              "      if (url in hashes) {\n",
              "        element.crossOrigin = \"anonymous\";\n",
              "        element.integrity = \"sha384-\" + hashes[url];\n",
              "      }\n",
              "      console.debug(\"Bokeh: injecting script tag for BokehJS library: \", url);\n",
              "      document.head.appendChild(element);\n",
              "    }\n",
              "  };\n",
              "\n",
              "  function inject_raw_css(css) {\n",
              "    const element = document.createElement(\"style\");\n",
              "    element.appendChild(document.createTextNode(css));\n",
              "    document.body.appendChild(element);\n",
              "  }\n",
              "\n",
              "  \n",
              "  var js_urls = [\"https://cdn.bokeh.org/bokeh/release/bokeh-2.1.1.min.js\", \"https://cdn.bokeh.org/bokeh/release/bokeh-widgets-2.1.1.min.js\", \"https://cdn.bokeh.org/bokeh/release/bokeh-tables-2.1.1.min.js\", \"https://cdn.bokeh.org/bokeh/release/bokeh-gl-2.1.1.min.js\"];\n",
              "  var css_urls = [];\n",
              "  \n",
              "\n",
              "  var inline_js = [\n",
              "    function(Bokeh) {\n",
              "      Bokeh.set_log_level(\"info\");\n",
              "    },\n",
              "    function(Bokeh) {\n",
              "    \n",
              "    \n",
              "    }\n",
              "  ];\n",
              "\n",
              "  function run_inline_js() {\n",
              "    \n",
              "    if (root.Bokeh !== undefined || force === true) {\n",
              "      \n",
              "    for (var i = 0; i < inline_js.length; i++) {\n",
              "      inline_js[i].call(root, root.Bokeh);\n",
              "    }\n",
              "    } else if (Date.now() < root._bokeh_timeout) {\n",
              "      setTimeout(run_inline_js, 100);\n",
              "    } else if (!root._bokeh_failed_load) {\n",
              "      console.log(\"Bokeh: BokehJS failed to load within specified timeout.\");\n",
              "      root._bokeh_failed_load = true;\n",
              "    } else if (force !== true) {\n",
              "      var cell = $(document.getElementById(null)).parents('.cell').data().cell;\n",
              "      cell.output_area.append_execute_result(NB_LOAD_WARNING)\n",
              "    }\n",
              "\n",
              "  }\n",
              "\n",
              "  if (root._bokeh_is_loading === 0) {\n",
              "    console.debug(\"Bokeh: BokehJS loaded, going straight to plotting\");\n",
              "    run_inline_js();\n",
              "  } else {\n",
              "    load_libs(css_urls, js_urls, function() {\n",
              "      console.debug(\"Bokeh: BokehJS plotting callback run at\", now());\n",
              "      run_inline_js();\n",
              "    });\n",
              "  }\n",
              "}(window));"
            ],
            "application/vnd.bokehjs_load.v0+json": "\n(function(root) {\n  function now() {\n    return new Date();\n  }\n\n  var force = true;\n\n  if (typeof root._bokeh_onload_callbacks === \"undefined\" || force === true) {\n    root._bokeh_onload_callbacks = [];\n    root._bokeh_is_loading = undefined;\n  }\n\n  \n\n  \n  if (typeof (root._bokeh_timeout) === \"undefined\" || force === true) {\n    root._bokeh_timeout = Date.now() + 5000;\n    root._bokeh_failed_load = false;\n  }\n\n  var NB_LOAD_WARNING = {'data': {'text/html':\n     \"<div style='background-color: #fdd'>\\n\"+\n     \"<p>\\n\"+\n     \"BokehJS does not appear to have successfully loaded. If loading BokehJS from CDN, this \\n\"+\n     \"may be due to a slow or bad network connection. Possible fixes:\\n\"+\n     \"</p>\\n\"+\n     \"<ul>\\n\"+\n     \"<li>re-rerun `output_notebook()` to attempt to load from CDN again, or</li>\\n\"+\n     \"<li>use INLINE resources instead, as so:</li>\\n\"+\n     \"</ul>\\n\"+\n     \"<code>\\n\"+\n     \"from bokeh.resources import INLINE\\n\"+\n     \"output_notebook(resources=INLINE)\\n\"+\n     \"</code>\\n\"+\n     \"</div>\"}};\n\n  function display_loaded() {\n    var el = document.getElementById(null);\n    if (el != null) {\n      el.textContent = \"BokehJS is loading...\";\n    }\n    if (root.Bokeh !== undefined) {\n      if (el != null) {\n        el.textContent = \"BokehJS \" + root.Bokeh.version + \" successfully loaded.\";\n      }\n    } else if (Date.now() < root._bokeh_timeout) {\n      setTimeout(display_loaded, 100)\n    }\n  }\n\n\n  function run_callbacks() {\n    try {\n      root._bokeh_onload_callbacks.forEach(function(callback) {\n        if (callback != null)\n          callback();\n      });\n    } finally {\n      delete root._bokeh_onload_callbacks\n    }\n    console.debug(\"Bokeh: all callbacks have finished\");\n  }\n\n  function load_libs(css_urls, js_urls, callback) {\n    if (css_urls == null) css_urls = [];\n    if (js_urls == null) js_urls = [];\n\n    root._bokeh_onload_callbacks.push(callback);\n    if (root._bokeh_is_loading > 0) {\n      console.debug(\"Bokeh: BokehJS is being loaded, scheduling callback at\", now());\n      return null;\n    }\n    if (js_urls == null || js_urls.length === 0) {\n      run_callbacks();\n      return null;\n    }\n    console.debug(\"Bokeh: BokehJS not loaded, scheduling load and callback at\", now());\n    root._bokeh_is_loading = css_urls.length + js_urls.length;\n\n    function on_load() {\n      root._bokeh_is_loading--;\n      if (root._bokeh_is_loading === 0) {\n        console.debug(\"Bokeh: all BokehJS libraries/stylesheets loaded\");\n        run_callbacks()\n      }\n    }\n\n    function on_error() {\n      console.error(\"failed to load \" + url);\n    }\n\n    for (var i = 0; i < css_urls.length; i++) {\n      var url = css_urls[i];\n      const element = document.createElement(\"link\");\n      element.onload = on_load;\n      element.onerror = on_error;\n      element.rel = \"stylesheet\";\n      element.type = \"text/css\";\n      element.href = url;\n      console.debug(\"Bokeh: injecting link tag for BokehJS stylesheet: \", url);\n      document.body.appendChild(element);\n    }\n\n    const hashes = {\"https://cdn.bokeh.org/bokeh/release/bokeh-2.1.1.min.js\": \"kLr4fYcqcSpbuI95brIH3vnnYCquzzSxHPU6XGQCIkQRGJwhg0StNbj1eegrHs12\", \"https://cdn.bokeh.org/bokeh/release/bokeh-widgets-2.1.1.min.js\": \"xIGPmVtaOm+z0BqfSOMn4lOR6ciex448GIKG4eE61LsAvmGj48XcMQZtKcE/UXZe\", \"https://cdn.bokeh.org/bokeh/release/bokeh-tables-2.1.1.min.js\": \"Dc9u1wF/0zApGIWoBbH77iWEHtdmkuYWG839Uzmv8y8yBLXebjO9ZnERsde5Ln/P\", \"https://cdn.bokeh.org/bokeh/release/bokeh-gl-2.1.1.min.js\": \"cT9JaBz7GiRXdENrJLZNSC6eMNF3nh3fa5fTF51Svp+ukxPdwcU5kGXGPBgDCa2j\"};\n\n    for (var i = 0; i < js_urls.length; i++) {\n      var url = js_urls[i];\n      var element = document.createElement('script');\n      element.onload = on_load;\n      element.onerror = on_error;\n      element.async = false;\n      element.src = url;\n      if (url in hashes) {\n        element.crossOrigin = \"anonymous\";\n        element.integrity = \"sha384-\" + hashes[url];\n      }\n      console.debug(\"Bokeh: injecting script tag for BokehJS library: \", url);\n      document.head.appendChild(element);\n    }\n  };\n\n  function inject_raw_css(css) {\n    const element = document.createElement(\"style\");\n    element.appendChild(document.createTextNode(css));\n    document.body.appendChild(element);\n  }\n\n  \n  var js_urls = [\"https://cdn.bokeh.org/bokeh/release/bokeh-2.1.1.min.js\", \"https://cdn.bokeh.org/bokeh/release/bokeh-widgets-2.1.1.min.js\", \"https://cdn.bokeh.org/bokeh/release/bokeh-tables-2.1.1.min.js\", \"https://cdn.bokeh.org/bokeh/release/bokeh-gl-2.1.1.min.js\"];\n  var css_urls = [];\n  \n\n  var inline_js = [\n    function(Bokeh) {\n      Bokeh.set_log_level(\"info\");\n    },\n    function(Bokeh) {\n    \n    \n    }\n  ];\n\n  function run_inline_js() {\n    \n    if (root.Bokeh !== undefined || force === true) {\n      \n    for (var i = 0; i < inline_js.length; i++) {\n      inline_js[i].call(root, root.Bokeh);\n    }\n    } else if (Date.now() < root._bokeh_timeout) {\n      setTimeout(run_inline_js, 100);\n    } else if (!root._bokeh_failed_load) {\n      console.log(\"Bokeh: BokehJS failed to load within specified timeout.\");\n      root._bokeh_failed_load = true;\n    } else if (force !== true) {\n      var cell = $(document.getElementById(null)).parents('.cell').data().cell;\n      cell.output_area.append_execute_result(NB_LOAD_WARNING)\n    }\n\n  }\n\n  if (root._bokeh_is_loading === 0) {\n    console.debug(\"Bokeh: BokehJS loaded, going straight to plotting\");\n    run_inline_js();\n  } else {\n    load_libs(css_urls, js_urls, function() {\n      console.debug(\"Bokeh: BokehJS plotting callback run at\", now());\n      run_inline_js();\n    });\n  }\n}(window));"
          },
          "metadata": {
            "tags": []
          }
        },
        {
          "output_type": "display_data",
          "data": {
            "text/html": [
              "\n",
              "\n",
              "\n",
              "\n",
              "\n",
              "\n",
              "  <div class=\"bk-root\" id=\"7fdad0f7-3313-4b76-b5ab-386e85f7d931\" data-root-id=\"1001\"></div>\n"
            ]
          },
          "metadata": {
            "tags": []
          }
        },
        {
          "output_type": "display_data",
          "data": {
            "application/javascript": [
              "(function(root) {\n",
              "  function embed_document(root) {\n",
              "    \n",
              "  var docs_json = {\"560b3771-80cd-48c8-84aa-b27615321ab6\":{\"roots\":{\"references\":[{\"attributes\":{\"below\":[{\"id\":\"1010\"}],\"center\":[{\"id\":\"1013\"},{\"id\":\"1017\"}],\"left\":[{\"id\":\"1014\"}],\"renderers\":[{\"id\":\"1035\"},{\"id\":\"1040\"}],\"title\":{\"id\":\"1042\"},\"toolbar\":{\"id\":\"1025\"},\"x_range\":{\"id\":\"1002\"},\"x_scale\":{\"id\":\"1006\"},\"y_range\":{\"id\":\"1004\"},\"y_scale\":{\"id\":\"1008\"}},\"id\":\"1001\",\"subtype\":\"Figure\",\"type\":\"Plot\"},{\"attributes\":{\"source\":{\"id\":\"1037\"}},\"id\":\"1041\",\"type\":\"CDSView\"},{\"attributes\":{\"data_source\":{\"id\":\"1037\"},\"glyph\":{\"id\":\"1038\"},\"hover_glyph\":null,\"muted_glyph\":null,\"nonselection_glyph\":{\"id\":\"1039\"},\"selection_glyph\":null,\"view\":{\"id\":\"1041\"}},\"id\":\"1040\",\"type\":\"GlyphRenderer\"},{\"attributes\":{},\"id\":\"1006\",\"type\":\"LinearScale\"},{\"attributes\":{},\"id\":\"1049\",\"type\":\"UnionRenderers\"},{\"attributes\":{\"data\":{\"x\":{\"__ndarray__\":\"qXcl1/Pq7z/9tRMI0LPvP17eIpTb+9w/QFNxjLEznj8AYGJE9TRPP4BfLzrChXo/0E5XC1wHxz8kuljn5v3TPydUhTY8COw/2D426qQS7j/wZFHYXI3vP6l3Jdfz6u8/\",\"dtype\":\"float64\",\"order\":\"little\",\"shape\":[12]},\"y\":{\"__ndarray__\":\"WmwHztzb0T+ace1XJULvPz46E+2BHO8/VaiPOD547D/Sl8X/4x3qPzxorBHqwsY/gKO6JPAvmD8AeLb5i5F7PwCP0xk2Eps/qNPQe9jBsT8ow+He4oO8P1psB87c29E/\",\"dtype\":\"float64\",\"order\":\"little\",\"shape\":[12]}},\"selected\":{\"id\":\"1050\"},\"selection_policy\":{\"id\":\"1051\"}},\"id\":\"1037\",\"type\":\"ColumnDataSource\"},{\"attributes\":{\"line_color\":\"red\",\"x\":{\"field\":\"x\"},\"y\":{\"field\":\"y\"}},\"id\":\"1038\",\"type\":\"Line\"},{\"attributes\":{},\"id\":\"1018\",\"type\":\"PanTool\"},{\"attributes\":{\"fill_color\":{\"value\":\"#1f77b4\"},\"line_color\":{\"value\":\"#1f77b4\"},\"x\":{\"field\":\"x\"},\"y\":{\"field\":\"y\"}},\"id\":\"1033\",\"type\":\"Scatter\"},{\"attributes\":{},\"id\":\"1002\",\"type\":\"DataRange1d\"},{\"attributes\":{},\"id\":\"1019\",\"type\":\"WheelZoomTool\"},{\"attributes\":{},\"id\":\"1004\",\"type\":\"DataRange1d\"},{\"attributes\":{\"line_alpha\":0.1,\"line_color\":\"red\",\"x\":{\"field\":\"x\"},\"y\":{\"field\":\"y\"}},\"id\":\"1039\",\"type\":\"Line\"},{\"attributes\":{\"overlay\":{\"id\":\"1024\"}},\"id\":\"1020\",\"type\":\"BoxZoomTool\"},{\"attributes\":{\"data\":{\"x\":{\"__ndarray__\":\"6lXByKKk5T/2GeY3u8LaP156wOwg8ds/jyKErFo/4z+DKXmYwivvP5CkxUknsaA/DICkyo7Q1j/Y5rBEU9PpPy/KupSBH+0/1TurnFm86j+ZjCFU9XfnP/xP++Y90t4/o3I4aoe87T9IdaTDSpDoP1Dvq615hKc/MsGX9oaf5D8cYt3X25PEP6l3Jdfz6u8/mNCe3l4S5T+kZoLabLbUP0xl/ELVuug/4Elk4E7K6D+0aAbGO7XbP+/ndcTA4eg/kAy8Dw37oj+ZDCv188vsPzTqD5IXctc/m2/UWm605D8+uBg9NOrtPz5AaAm3Beg/bi9WYuyi1z/QTlcLXAfHP9VGXADBc+Y/mKhyapki3D/kEiCX9XrtP2tNVXmca+Q/2D426qQS7j+srNor0VXHP/BkUdhcje8/WH0ZCBYP6D/AIxTUckSSPwAw1vnqIM4/WOv90mk15T8tA9tk7OLqP1NnUlTqYes/oB7ZKsrtxT8Cs2wvOInuP8E2N8T32Os/WrkbBdAs1T+YdrduunzvP9ARiOsWFNI/adGIg0fl4T/AupcZf+ulP1hKFucSjsQ/NLdfuKhx6z+7gmzYpZjnP2p972tOuuw/vJkgN7nY2T+QqbHDdJHbP+6+j+n07tY/wMWJ8jDo6T/35TGcA3znP5T3UnkHndQ/J1SFNjwI7D/2qR0HtxbVP4381dLKS+U/EE4WqlZovj+ueo7YxRPoPxiUDcspor8/wMkOaiStlj+lDA+nksfrP17eIpTb+9w/gG19BWQl2D8kuljn5v3TP+ZhUbYj8eQ/VIEkjWKQ6z9StdvV0PbaP/RkPZqmE8o/rizCnjuX2j976ibtFInqP8dmo+wGT+M/rzoV2kyM6D+wmQX4LdmrP/21EwjQs+8/gF8vOsKFej+L2mGatzvhP3f7GjrE5+w/nFyGeCFe7D+cozP7cfLKPwn43mpGQ+4/GaREr8YQ6D8AYGJE9TRPPxD+T74JD9c/wISYJwHVkz97R23zcCLhP1itelOn49Y/eDBvsI0avj99GBI2/uzsP0BTcYyxM54/cNq+uSSStj8=\",\"dtype\":\"float64\",\"order\":\"little\",\"shape\":[100]},\"y\":{\"__ndarray__\":\"dJpilSqp7T9oZar4i/fsP0jPdqAaVrc/wqyYVper3T97coc3+tfsP88YONZNSeQ/jL6nQLjMwT+bqzgs2RTlP6FgKf0BaOw/vLfbHGIw1j/XM6Fd0X7hPxKLDSSRFus/o8A+QwF15T/Vg3+7FIjjPxvHCmx23+Y/VmbZADsI6D9hpCu91zbhP1psB87c29E/wdH2ZRWP5j8uUcRFWF3cPzRfb7XGycs/hCyMPmQA5T8JMQdSmHnuP2wuBoAVYMM/1uNgNY0q5j+S0UmBtZbdP//tt6hmROw/Pgg+zEEM7T9G8oJsTXzQPxD28YoZitQ/MiMJgIC76T+Ao7ok8C+YPyATsG4Dr64/TAipCK10yT/4prbtJyPWP5DaI+A0qsI/qNPQe9jBsT9YzAKufbizPyjD4d7ig7w/ABLYoF/Atj+ubSedy97cP62en4aB4ec/0LsJWDLm1T8aFAw/J1nkP1vaha5Fx+s/yNaWPSM6uD/0jyJU7c/tP4Y1syBr8uk/uKxn0XEq6D8Y3McrcZjmP3J6aPLBXek/+q87gLAP5T8XPEuGE1roP6HTV33kp+M/vIiwVMky6j/SU4lMNxzcP0gutB9YjsQ/RIO5qNN52j9qiZSjycjdP7wtNyvUWuI/rYfEK9CF6z9FvZUO4dzmP9LZucfjE+Q/AI/TGTYSmz9U20yG23PCPxr48F3HWtw/vZr5KbT/5T9L3cgGqFPqP5j74OE3s8o/wB4VvuEJ3j+uA9lCdlTWPz46E+2BHO8/uOYcIywm4T8AeLb5i5F7P5RTxHticcc/fKquwSOmzj+W71gWQvTmP5MuQnFXqeI/KXh7wAHI5j8AL5YXLVLWP0DlvrlrEqU/weLB6N7t6D9B92yA133lP5px7VclQu8/PGisEerCxj8yAUvTExPYP0DBQWghQak/hAk5/aQg4T9iaLTiTHfeP6fWIveHIOQ/bW/JdGks6z/Sl8X/4x3qP1BxiIur994/WNUv8SYJzj//dFg48xfjP5+ajVGNv+w/9JYnSpp06j/dxB2iv9bgP1Wojzg+eOw/lU4s72gD6T8=\",\"dtype\":\"float64\",\"order\":\"little\",\"shape\":[100]}},\"selected\":{\"id\":\"1048\"},\"selection_policy\":{\"id\":\"1049\"}},\"id\":\"1032\",\"type\":\"ColumnDataSource\"},{\"attributes\":{},\"id\":\"1048\",\"type\":\"Selection\"},{\"attributes\":{},\"id\":\"1021\",\"type\":\"SaveTool\"},{\"attributes\":{},\"id\":\"1044\",\"type\":\"BasicTickFormatter\"},{\"attributes\":{},\"id\":\"1022\",\"type\":\"ResetTool\"},{\"attributes\":{},\"id\":\"1050\",\"type\":\"Selection\"},{\"attributes\":{},\"id\":\"1023\",\"type\":\"HelpTool\"},{\"attributes\":{},\"id\":\"1051\",\"type\":\"UnionRenderers\"},{\"attributes\":{\"data_source\":{\"id\":\"1032\"},\"glyph\":{\"id\":\"1033\"},\"hover_glyph\":null,\"muted_glyph\":null,\"nonselection_glyph\":{\"id\":\"1034\"},\"selection_glyph\":null,\"view\":{\"id\":\"1036\"}},\"id\":\"1035\",\"type\":\"GlyphRenderer\"},{\"attributes\":{\"active_drag\":\"auto\",\"active_inspect\":\"auto\",\"active_multi\":null,\"active_scroll\":\"auto\",\"active_tap\":\"auto\",\"tools\":[{\"id\":\"1018\"},{\"id\":\"1019\"},{\"id\":\"1020\"},{\"id\":\"1021\"},{\"id\":\"1022\"},{\"id\":\"1023\"}]},\"id\":\"1025\",\"type\":\"Toolbar\"},{\"attributes\":{\"formatter\":{\"id\":\"1044\"},\"ticker\":{\"id\":\"1011\"}},\"id\":\"1010\",\"type\":\"LinearAxis\"},{\"attributes\":{\"text\":\"\"},\"id\":\"1042\",\"type\":\"Title\"},{\"attributes\":{},\"id\":\"1008\",\"type\":\"LinearScale\"},{\"attributes\":{\"fill_alpha\":{\"value\":0.1},\"fill_color\":{\"value\":\"#1f77b4\"},\"line_alpha\":{\"value\":0.1},\"line_color\":{\"value\":\"#1f77b4\"},\"x\":{\"field\":\"x\"},\"y\":{\"field\":\"y\"}},\"id\":\"1034\",\"type\":\"Scatter\"},{\"attributes\":{},\"id\":\"1046\",\"type\":\"BasicTickFormatter\"},{\"attributes\":{},\"id\":\"1011\",\"type\":\"BasicTicker\"},{\"attributes\":{\"bottom_units\":\"screen\",\"fill_alpha\":0.5,\"fill_color\":\"lightgrey\",\"left_units\":\"screen\",\"level\":\"overlay\",\"line_alpha\":1.0,\"line_color\":\"black\",\"line_dash\":[4,4],\"line_width\":2,\"right_units\":\"screen\",\"top_units\":\"screen\"},\"id\":\"1024\",\"type\":\"BoxAnnotation\"},{\"attributes\":{\"axis\":{\"id\":\"1010\"},\"ticker\":null},\"id\":\"1013\",\"type\":\"Grid\"},{\"attributes\":{\"formatter\":{\"id\":\"1046\"},\"ticker\":{\"id\":\"1015\"}},\"id\":\"1014\",\"type\":\"LinearAxis\"},{\"attributes\":{},\"id\":\"1015\",\"type\":\"BasicTicker\"},{\"attributes\":{\"axis\":{\"id\":\"1014\"},\"dimension\":1,\"ticker\":null},\"id\":\"1017\",\"type\":\"Grid\"},{\"attributes\":{\"source\":{\"id\":\"1032\"}},\"id\":\"1036\",\"type\":\"CDSView\"}],\"root_ids\":[\"1001\"]},\"title\":\"Bokeh Application\",\"version\":\"2.1.1\"}};\n",
              "  var render_items = [{\"docid\":\"560b3771-80cd-48c8-84aa-b27615321ab6\",\"root_ids\":[\"1001\"],\"roots\":{\"1001\":\"7fdad0f7-3313-4b76-b5ab-386e85f7d931\"}}];\n",
              "  root.Bokeh.embed.embed_items_notebook(docs_json, render_items);\n",
              "\n",
              "  }\n",
              "  if (root.Bokeh !== undefined) {\n",
              "    embed_document(root);\n",
              "  } else {\n",
              "    var attempts = 0;\n",
              "    var timer = setInterval(function(root) {\n",
              "      if (root.Bokeh !== undefined) {\n",
              "        clearInterval(timer);\n",
              "        embed_document(root);\n",
              "      } else {\n",
              "        attempts++;\n",
              "        if (attempts > 100) {\n",
              "          clearInterval(timer);\n",
              "          console.log(\"Bokeh: ERROR: Unable to run BokehJS code because BokehJS library is missing\");\n",
              "        }\n",
              "      }\n",
              "    }, 10, root)\n",
              "  }\n",
              "})(window);"
            ],
            "application/vnd.bokehjs_exec.v0+json": ""
          },
          "metadata": {
            "tags": [],
            "application/vnd.bokehjs_exec.v0+json": {
              "id": "1001"
            }
          }
        }
      ]
    },
    {
      "cell_type": "code",
      "metadata": {
        "id": "5X_za6OVt_zq"
      },
      "source": [
        ""
      ],
      "execution_count": null,
      "outputs": []
    },
    {
      "cell_type": "code",
      "metadata": {
        "id": "KVvxKTGOt_wu"
      },
      "source": [
        ""
      ],
      "execution_count": null,
      "outputs": []
    },
    {
      "cell_type": "code",
      "metadata": {
        "id": "fb5Cp6f2FltJ"
      },
      "source": [
        ""
      ],
      "execution_count": null,
      "outputs": []
    }
  ]
}